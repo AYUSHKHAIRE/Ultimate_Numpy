{
 "cells": [
  {
   "cell_type": "code",
   "execution_count": 1,
   "id": "53d88225",
   "metadata": {
    "_cell_guid": "b1076dfc-b9ad-4769-8c92-a6c4dae69d19",
    "_uuid": "8f2839f25d086af736a60e9eeb907d3b93b6e0e5",
    "execution": {
     "iopub.execute_input": "2023-09-03T13:36:06.534287Z",
     "iopub.status.busy": "2023-09-03T13:36:06.533677Z",
     "iopub.status.idle": "2023-09-03T13:36:06.543955Z",
     "shell.execute_reply": "2023-09-03T13:36:06.542881Z"
    },
    "papermill": {
     "duration": 0.019538,
     "end_time": "2023-09-03T13:36:06.546138",
     "exception": false,
     "start_time": "2023-09-03T13:36:06.526600",
     "status": "completed"
    },
    "tags": []
   },
   "outputs": [],
   "source": [
    "import numpy as np"
   ]
  },
  {
   "cell_type": "markdown",
   "id": "2fead253",
   "metadata": {
    "papermill": {
     "duration": 0.004516,
     "end_time": "2023-09-03T13:36:06.555941",
     "exception": false,
     "start_time": "2023-09-03T13:36:06.551425",
     "status": "completed"
    },
    "tags": []
   },
   "source": [
    "# broadcasting"
   ]
  },
  {
   "cell_type": "code",
   "execution_count": 2,
   "id": "dec1bd95",
   "metadata": {
    "execution": {
     "iopub.execute_input": "2023-09-03T13:36:06.567227Z",
     "iopub.status.busy": "2023-09-03T13:36:06.566907Z",
     "iopub.status.idle": "2023-09-03T13:36:06.574981Z",
     "shell.execute_reply": "2023-09-03T13:36:06.574040Z"
    },
    "papermill": {
     "duration": 0.016074,
     "end_time": "2023-09-03T13:36:06.577197",
     "exception": false,
     "start_time": "2023-09-03T13:36:06.561123",
     "status": "completed"
    },
    "tags": []
   },
   "outputs": [
    {
     "name": "stdout",
     "output_type": "stream",
     "text": [
      "[6 6 9]\n"
     ]
    }
   ],
   "source": [
    "a=np.array([1,2,3])\n",
    "b=np.array([5,4,6])\n",
    "print(a+b)"
   ]
  },
  {
   "cell_type": "markdown",
   "id": "7d602b9d",
   "metadata": {
    "papermill": {
     "duration": 0.004547,
     "end_time": "2023-09-03T13:36:06.586568",
     "exception": false,
     "start_time": "2023-09-03T13:36:06.582021",
     "status": "completed"
    },
    "tags": []
   },
   "source": [
    "* broadcasting : following the rules\n",
    "    * 1 : the 2 matrix dimensions should be same"
   ]
  },
  {
   "cell_type": "code",
   "execution_count": 3,
   "id": "1ba58733",
   "metadata": {
    "execution": {
     "iopub.execute_input": "2023-09-03T13:36:06.597621Z",
     "iopub.status.busy": "2023-09-03T13:36:06.596787Z",
     "iopub.status.idle": "2023-09-03T13:36:06.604006Z",
     "shell.execute_reply": "2023-09-03T13:36:06.602901Z"
    },
    "papermill": {
     "duration": 0.015022,
     "end_time": "2023-09-03T13:36:06.606076",
     "exception": false,
     "start_time": "2023-09-03T13:36:06.591054",
     "status": "completed"
    },
    "tags": []
   },
   "outputs": [
    {
     "name": "stdout",
     "output_type": "stream",
     "text": [
      "[1 2 3]\n",
      "(3,)\n",
      "\n",
      " [[1]\n",
      " [2]\n",
      " [3]]\n",
      "(3, 1)\n",
      "\n",
      "\n",
      "[[2 3 4]\n",
      " [3 4 5]\n",
      " [4 5 6]]\n"
     ]
    }
   ],
   "source": [
    "a=np.array([1,2,3])\n",
    "print(a)\n",
    "print(a.shape)\n",
    "b=np.array([[1],[2],[3]])\n",
    "print('\\n',b)\n",
    "print(b.shape)\n",
    "print('\\n')\n",
    "print(a+b)"
   ]
  },
  {
   "cell_type": "code",
   "execution_count": 4,
   "id": "9e477b54",
   "metadata": {
    "execution": {
     "iopub.execute_input": "2023-09-03T13:36:06.618267Z",
     "iopub.status.busy": "2023-09-03T13:36:06.617483Z",
     "iopub.status.idle": "2023-09-03T13:36:06.621410Z",
     "shell.execute_reply": "2023-09-03T13:36:06.620768Z"
    },
    "papermill": {
     "duration": 0.011703,
     "end_time": "2023-09-03T13:36:06.623189",
     "exception": false,
     "start_time": "2023-09-03T13:36:06.611486",
     "status": "completed"
    },
    "tags": []
   },
   "outputs": [],
   "source": [
    "# [ 1  2  3 ]+[1]\n",
    "#             [2]\n",
    "#             [3]\n",
    "#   1+1    2+1   3+1   \n",
    "#   1+2    2+2   3+2\n",
    "#   1+3    2+3   3+3"
   ]
  },
  {
   "cell_type": "code",
   "execution_count": 5,
   "id": "5feca4ee",
   "metadata": {
    "execution": {
     "iopub.execute_input": "2023-09-03T13:36:06.633914Z",
     "iopub.status.busy": "2023-09-03T13:36:06.633618Z",
     "iopub.status.idle": "2023-09-03T13:36:06.639174Z",
     "shell.execute_reply": "2023-09-03T13:36:06.638556Z"
    },
    "papermill": {
     "duration": 0.013338,
     "end_time": "2023-09-03T13:36:06.641195",
     "exception": false,
     "start_time": "2023-09-03T13:36:06.627857",
     "status": "completed"
    },
    "tags": []
   },
   "outputs": [
    {
     "name": "stdout",
     "output_type": "stream",
     "text": [
      "[[1]\n",
      " [2]]\n",
      "\n",
      "\n",
      "(2, 1)\n",
      "[[1 2 3]\n",
      " [1 2 3]]\n",
      "(2, 3)\n",
      "\n",
      "\n",
      "[[2 3 4]\n",
      " [3 4 5]]\n"
     ]
    }
   ],
   "source": [
    "c=np.array([[1],[2]])\n",
    "print(c)\n",
    "print('\\n')\n",
    "print(c.shape)\n",
    "d=np.array([[1,2,3],[1,2,3]])\n",
    "print(d)\n",
    "print(d.shape)\n",
    "print('\\n')\n",
    "print(c+d)"
   ]
  },
  {
   "cell_type": "code",
   "execution_count": 6,
   "id": "6fd59b09",
   "metadata": {
    "execution": {
     "iopub.execute_input": "2023-09-03T13:36:06.651995Z",
     "iopub.status.busy": "2023-09-03T13:36:06.651664Z",
     "iopub.status.idle": "2023-09-03T13:36:06.655113Z",
     "shell.execute_reply": "2023-09-03T13:36:06.654461Z"
    },
    "papermill": {
     "duration": 0.010827,
     "end_time": "2023-09-03T13:36:06.656872",
     "exception": false,
     "start_time": "2023-09-03T13:36:06.646045",
     "status": "completed"
    },
    "tags": []
   },
   "outputs": [],
   "source": [
    "# 2x1  2x3 \n",
    "# 2==2\n",
    "# max = 3\n",
    "# result = 2x3"
   ]
  },
  {
   "cell_type": "markdown",
   "id": "4a180980",
   "metadata": {
    "papermill": {
     "duration": 0.006709,
     "end_time": "2023-09-03T13:36:06.670548",
     "exception": false,
     "start_time": "2023-09-03T13:36:06.663839",
     "status": "completed"
    },
    "tags": []
   },
   "source": [
    "# simply follow the rules of matrix arethmatics"
   ]
  }
 ],
 "kernelspec": {
  "display_name": "Python 3",
  "language": "python",
  "name": "python3"
 },
 "language_info": {
  "codemirror_mode": {
   "name": "ipython",
   "version": 3
  },
  "file_extension": ".py",
  "mimetype": "text/x-python",
  "name": "python",
  "nbconvert_exporter": "python",
  "pygments_lexer": "ipython3",
  "version": "3.6.4"
 },
 "metadata": {
  "kernelspec": {
   "display_name": "Python 3",
   "language": "python",
   "name": "python3"
  },
  "language_info": {
   "codemirror_mode": {
    "name": "ipython",
    "version": 3
   },
   "file_extension": ".py",
   "mimetype": "text/x-python",
   "name": "python",
   "nbconvert_exporter": "python",
   "pygments_lexer": "ipython3",
   "version": "3.10.12"
  },
  "papermill": {
   "default_parameters": {},
   "duration": 3.758339,
   "end_time": "2023-09-03T13:36:06.993073",
   "environment_variables": {},
   "exception": null,
   "input_path": "__notebook__.ipynb",
   "output_path": "__notebook__.ipynb",
   "parameters": {},
   "start_time": "2023-09-03T13:36:03.234734",
   "version": "2.4.0"
  }
 },
 "nbformat": 4,
 "nbformat_minor": 5
}
