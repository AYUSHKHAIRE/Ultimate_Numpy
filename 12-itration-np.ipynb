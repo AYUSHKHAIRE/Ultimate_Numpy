{
 "cells": [
  {
   "cell_type": "code",
   "execution_count": 1,
   "id": "5c159322",
   "metadata": {
    "_cell_guid": "b1076dfc-b9ad-4769-8c92-a6c4dae69d19",
    "_uuid": "8f2839f25d086af736a60e9eeb907d3b93b6e0e5",
    "execution": {
     "iopub.execute_input": "2023-09-04T13:22:33.096086Z",
     "iopub.status.busy": "2023-09-04T13:22:33.095576Z",
     "iopub.status.idle": "2023-09-04T13:22:33.107566Z",
     "shell.execute_reply": "2023-09-04T13:22:33.106376Z"
    },
    "papermill": {
     "duration": 0.024958,
     "end_time": "2023-09-04T13:22:33.110352",
     "exception": false,
     "start_time": "2023-09-04T13:22:33.085394",
     "status": "completed"
    },
    "tags": []
   },
   "outputs": [],
   "source": [
    "import numpy as np"
   ]
  },
  {
   "cell_type": "markdown",
   "id": "36238627",
   "metadata": {
    "papermill": {
     "duration": 0.006663,
     "end_time": "2023-09-04T13:22:33.124383",
     "exception": false,
     "start_time": "2023-09-04T13:22:33.117720",
     "status": "completed"
    },
    "tags": []
   },
   "source": [
    "# Itration"
   ]
  },
  {
   "cell_type": "code",
   "execution_count": 2,
   "id": "ff1e2bb7",
   "metadata": {
    "execution": {
     "iopub.execute_input": "2023-09-04T13:22:33.140795Z",
     "iopub.status.busy": "2023-09-04T13:22:33.140281Z",
     "iopub.status.idle": "2023-09-04T13:22:33.149194Z",
     "shell.execute_reply": "2023-09-04T13:22:33.147819Z"
    },
    "papermill": {
     "duration": 0.020865,
     "end_time": "2023-09-04T13:22:33.152252",
     "exception": false,
     "start_time": "2023-09-04T13:22:33.131387",
     "status": "completed"
    },
    "tags": []
   },
   "outputs": [
    {
     "name": "stdout",
     "output_type": "stream",
     "text": [
      "[1 2 3 4 5 6 7 8 9]\n"
     ]
    }
   ],
   "source": [
    "a=np.array([1,2,3,4,5,6,7,8,9])\n",
    "print(a)"
   ]
  },
  {
   "cell_type": "code",
   "execution_count": 3,
   "id": "77a886e5",
   "metadata": {
    "execution": {
     "iopub.execute_input": "2023-09-04T13:22:33.170014Z",
     "iopub.status.busy": "2023-09-04T13:22:33.168783Z",
     "iopub.status.idle": "2023-09-04T13:22:33.176806Z",
     "shell.execute_reply": "2023-09-04T13:22:33.175073Z"
    },
    "papermill": {
     "duration": 0.019929,
     "end_time": "2023-09-04T13:22:33.179570",
     "exception": false,
     "start_time": "2023-09-04T13:22:33.159641",
     "status": "completed"
    },
    "tags": []
   },
   "outputs": [
    {
     "name": "stdout",
     "output_type": "stream",
     "text": [
      "1\n",
      "2\n",
      "3\n",
      "4\n",
      "5\n",
      "6\n",
      "7\n",
      "8\n",
      "9\n"
     ]
    }
   ],
   "source": [
    "for i in a:\n",
    "    print(i)"
   ]
  },
  {
   "cell_type": "code",
   "execution_count": 4,
   "id": "1d38e0c2",
   "metadata": {
    "execution": {
     "iopub.execute_input": "2023-09-04T13:22:33.198980Z",
     "iopub.status.busy": "2023-09-04T13:22:33.197814Z",
     "iopub.status.idle": "2023-09-04T13:22:33.205670Z",
     "shell.execute_reply": "2023-09-04T13:22:33.204211Z"
    },
    "papermill": {
     "duration": 0.019754,
     "end_time": "2023-09-04T13:22:33.208318",
     "exception": false,
     "start_time": "2023-09-04T13:22:33.188564",
     "status": "completed"
    },
    "tags": []
   },
   "outputs": [
    {
     "name": "stdout",
     "output_type": "stream",
     "text": [
      "[[1 2 3 4 5]\n",
      " [5 4 3 2 1]]\n"
     ]
    }
   ],
   "source": [
    "b=np.array([[1,2,3,4,5],[5,4,3,2,1]])\n",
    "print(b)"
   ]
  },
  {
   "cell_type": "code",
   "execution_count": 5,
   "id": "ac74126a",
   "metadata": {
    "execution": {
     "iopub.execute_input": "2023-09-04T13:22:33.226942Z",
     "iopub.status.busy": "2023-09-04T13:22:33.226053Z",
     "iopub.status.idle": "2023-09-04T13:22:33.233040Z",
     "shell.execute_reply": "2023-09-04T13:22:33.231681Z"
    },
    "papermill": {
     "duration": 0.019253,
     "end_time": "2023-09-04T13:22:33.235774",
     "exception": false,
     "start_time": "2023-09-04T13:22:33.216521",
     "status": "completed"
    },
    "tags": []
   },
   "outputs": [
    {
     "name": "stdout",
     "output_type": "stream",
     "text": [
      "[1 2 3 4 5]\n",
      "[5 4 3 2 1]\n"
     ]
    }
   ],
   "source": [
    "for j in b:\n",
    "    print(j)"
   ]
  },
  {
   "cell_type": "code",
   "execution_count": 6,
   "id": "d0eaee04",
   "metadata": {
    "execution": {
     "iopub.execute_input": "2023-09-04T13:22:33.253775Z",
     "iopub.status.busy": "2023-09-04T13:22:33.253313Z",
     "iopub.status.idle": "2023-09-04T13:22:33.259856Z",
     "shell.execute_reply": "2023-09-04T13:22:33.258129Z"
    },
    "papermill": {
     "duration": 0.019164,
     "end_time": "2023-09-04T13:22:33.262866",
     "exception": false,
     "start_time": "2023-09-04T13:22:33.243702",
     "status": "completed"
    },
    "tags": []
   },
   "outputs": [
    {
     "name": "stdout",
     "output_type": "stream",
     "text": [
      "1\n",
      "2\n",
      "3\n",
      "4\n",
      "5\n",
      "5\n",
      "4\n",
      "3\n",
      "2\n",
      "1\n"
     ]
    }
   ],
   "source": [
    "for k in b:\n",
    "    for l in k:\n",
    "        print(l)"
   ]
  },
  {
   "cell_type": "code",
   "execution_count": 7,
   "id": "82de9ac8",
   "metadata": {
    "execution": {
     "iopub.execute_input": "2023-09-04T13:22:33.280577Z",
     "iopub.status.busy": "2023-09-04T13:22:33.279913Z",
     "iopub.status.idle": "2023-09-04T13:22:33.287360Z",
     "shell.execute_reply": "2023-09-04T13:22:33.285934Z"
    },
    "papermill": {
     "duration": 0.019288,
     "end_time": "2023-09-04T13:22:33.289831",
     "exception": false,
     "start_time": "2023-09-04T13:22:33.270543",
     "status": "completed"
    },
    "tags": []
   },
   "outputs": [
    {
     "name": "stdout",
     "output_type": "stream",
     "text": [
      "[[[1 2 3 4 5]\n",
      "  [1 2 3 4 5]\n",
      "  [1 2 2 2 2]]]\n",
      "3\n"
     ]
    }
   ],
   "source": [
    "c=np.array([[[1,2,3,4,5],[1,2,3,4,5],[1,2,2,2,2]]])\n",
    "print(c)\n",
    "print(c.ndim)"
   ]
  },
  {
   "cell_type": "code",
   "execution_count": 8,
   "id": "4a809e12",
   "metadata": {
    "execution": {
     "iopub.execute_input": "2023-09-04T13:22:33.306458Z",
     "iopub.status.busy": "2023-09-04T13:22:33.306060Z",
     "iopub.status.idle": "2023-09-04T13:22:33.312692Z",
     "shell.execute_reply": "2023-09-04T13:22:33.311385Z"
    },
    "papermill": {
     "duration": 0.018336,
     "end_time": "2023-09-04T13:22:33.315632",
     "exception": false,
     "start_time": "2023-09-04T13:22:33.297296",
     "status": "completed"
    },
    "tags": []
   },
   "outputs": [
    {
     "name": "stdout",
     "output_type": "stream",
     "text": [
      "1\n",
      "2\n",
      "3\n",
      "4\n",
      "5\n",
      "1\n",
      "2\n",
      "3\n",
      "4\n",
      "5\n",
      "1\n",
      "2\n",
      "2\n",
      "2\n",
      "2\n"
     ]
    }
   ],
   "source": [
    "for i in c:\n",
    "    for j in i:\n",
    "        for k in j:\n",
    "            print(k)"
   ]
  },
  {
   "cell_type": "markdown",
   "id": "f32e3eb2",
   "metadata": {
    "papermill": {
     "duration": 0.007395,
     "end_time": "2023-09-04T13:22:33.330769",
     "exception": false,
     "start_time": "2023-09-04T13:22:33.323374",
     "status": "completed"
    },
    "tags": []
   },
   "source": [
    "* less for loop"
   ]
  },
  {
   "cell_type": "code",
   "execution_count": 9,
   "id": "4cf7851f",
   "metadata": {
    "execution": {
     "iopub.execute_input": "2023-09-04T13:22:33.349384Z",
     "iopub.status.busy": "2023-09-04T13:22:33.348785Z",
     "iopub.status.idle": "2023-09-04T13:22:33.357999Z",
     "shell.execute_reply": "2023-09-04T13:22:33.356337Z"
    },
    "papermill": {
     "duration": 0.021726,
     "end_time": "2023-09-04T13:22:33.360697",
     "exception": false,
     "start_time": "2023-09-04T13:22:33.338971",
     "status": "completed"
    },
    "tags": []
   },
   "outputs": [
    {
     "name": "stdout",
     "output_type": "stream",
     "text": [
      "without function\n",
      "\n",
      "1\n",
      "2\n",
      "3\n",
      "4\n",
      "5\n",
      "1\n",
      "2\n",
      "3\n",
      "4\n",
      "5\n",
      "1\n",
      "2\n",
      "2\n",
      "2\n",
      "2\n",
      "\n",
      "\n",
      "direct function\n",
      "\n",
      "1\n",
      "2\n",
      "3\n",
      "4\n",
      "5\n",
      "1\n",
      "2\n",
      "3\n",
      "4\n",
      "5\n",
      "1\n",
      "2\n",
      "2\n",
      "2\n",
      "2\n"
     ]
    }
   ],
   "source": [
    "print(\"without function\\n\")\n",
    "for i in c:\n",
    "    for j in i:\n",
    "        for k in j:\n",
    "            print(k)\n",
    "print(\"\\n\")\n",
    "print(\"direct function\\n\")\n",
    "for i in np.nditer(c):\n",
    "    print(i)"
   ]
  },
  {
   "cell_type": "code",
   "execution_count": 10,
   "id": "e828c3ea",
   "metadata": {
    "execution": {
     "iopub.execute_input": "2023-09-04T13:22:33.386899Z",
     "iopub.status.busy": "2023-09-04T13:22:33.385616Z",
     "iopub.status.idle": "2023-09-04T13:22:33.394844Z",
     "shell.execute_reply": "2023-09-04T13:22:33.392797Z"
    },
    "papermill": {
     "duration": 0.027052,
     "end_time": "2023-09-04T13:22:33.397811",
     "exception": false,
     "start_time": "2023-09-04T13:22:33.370759",
     "status": "completed"
    },
    "tags": []
   },
   "outputs": [
    {
     "name": "stdout",
     "output_type": "stream",
     "text": [
      "b'1'\n",
      "b'2'\n",
      "b'3'\n",
      "b'4'\n",
      "b'5'\n",
      "b'1'\n",
      "b'2'\n",
      "b'3'\n",
      "b'4'\n",
      "b'5'\n",
      "b'1'\n",
      "b'2'\n",
      "b'2'\n",
      "b'2'\n",
      "b'2'\n"
     ]
    }
   ],
   "source": [
    "for i in np.nditer(c,flags=['buffered'],op_dtypes=[\"S\"]):\n",
    "    print(i)\n",
    "# changing datatypes"
   ]
  },
  {
   "cell_type": "code",
   "execution_count": 11,
   "id": "2ee5b68c",
   "metadata": {
    "execution": {
     "iopub.execute_input": "2023-09-04T13:22:33.420091Z",
     "iopub.status.busy": "2023-09-04T13:22:33.418580Z",
     "iopub.status.idle": "2023-09-04T13:22:33.426378Z",
     "shell.execute_reply": "2023-09-04T13:22:33.425256Z"
    },
    "papermill": {
     "duration": 0.023198,
     "end_time": "2023-09-04T13:22:33.429037",
     "exception": false,
     "start_time": "2023-09-04T13:22:33.405839",
     "status": "completed"
    },
    "tags": []
   },
   "outputs": [
    {
     "name": "stdout",
     "output_type": "stream",
     "text": [
      "(0, 0, 0) 1\n",
      "(0, 0, 1) 2\n",
      "(0, 0, 2) 3\n",
      "(0, 0, 3) 4\n",
      "(0, 0, 4) 5\n",
      "(0, 1, 0) 1\n",
      "(0, 1, 1) 2\n",
      "(0, 1, 2) 3\n",
      "(0, 1, 3) 4\n",
      "(0, 1, 4) 5\n",
      "(0, 2, 0) 1\n",
      "(0, 2, 1) 2\n",
      "(0, 2, 2) 2\n",
      "(0, 2, 3) 2\n",
      "(0, 2, 4) 2\n"
     ]
    }
   ],
   "source": [
    "for i,d in np.ndenumerate(c):\n",
    "    print(i,d)\n",
    "# indexing valuewise"
   ]
  }
 ],
 "kernelspec": {
  "display_name": "Python 3",
  "language": "python",
  "name": "python3"
 },
 "language_info": {
  "codemirror_mode": {
   "name": "ipython",
   "version": 3
  },
  "file_extension": ".py",
  "mimetype": "text/x-python",
  "name": "python",
  "nbconvert_exporter": "python",
  "pygments_lexer": "ipython3",
  "version": "3.6.4"
 },
 "metadata": {
  "kernelspec": {
   "display_name": "Python 3",
   "language": "python",
   "name": "python3"
  },
  "language_info": {
   "codemirror_mode": {
    "name": "ipython",
    "version": 3
   },
   "file_extension": ".py",
   "mimetype": "text/x-python",
   "name": "python",
   "nbconvert_exporter": "python",
   "pygments_lexer": "ipython3",
   "version": "3.10.12"
  },
  "papermill": {
   "default_parameters": {},
   "duration": 6.069102,
   "end_time": "2023-09-04T13:22:33.861283",
   "environment_variables": {},
   "exception": null,
   "input_path": "__notebook__.ipynb",
   "output_path": "__notebook__.ipynb",
   "parameters": {},
   "start_time": "2023-09-04T13:22:27.792181",
   "version": "2.4.0"
  }
 },
 "nbformat": 4,
 "nbformat_minor": 5
}
