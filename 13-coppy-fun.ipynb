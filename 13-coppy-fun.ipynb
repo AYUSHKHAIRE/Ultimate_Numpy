{
 "cells": [
  {
   "cell_type": "code",
   "execution_count": 1,
   "id": "43a75f56",
   "metadata": {
    "_cell_guid": "b1076dfc-b9ad-4769-8c92-a6c4dae69d19",
    "_uuid": "8f2839f25d086af736a60e9eeb907d3b93b6e0e5",
    "execution": {
     "iopub.execute_input": "2023-09-04T13:42:04.379080Z",
     "iopub.status.busy": "2023-09-04T13:42:04.378416Z",
     "iopub.status.idle": "2023-09-04T13:42:04.390466Z",
     "shell.execute_reply": "2023-09-04T13:42:04.388795Z"
    },
    "papermill": {
     "duration": 0.022902,
     "end_time": "2023-09-04T13:42:04.393559",
     "exception": false,
     "start_time": "2023-09-04T13:42:04.370657",
     "status": "completed"
    },
    "tags": []
   },
   "outputs": [],
   "source": [
    "import numpy as np"
   ]
  },
  {
   "cell_type": "markdown",
   "id": "b2396efb",
   "metadata": {
    "papermill": {
     "duration": 0.005151,
     "end_time": "2023-09-04T13:42:04.404591",
     "exception": false,
     "start_time": "2023-09-04T13:42:04.399440",
     "status": "completed"
    },
    "tags": []
   },
   "source": [
    "# Copy v/s Views"
   ]
  },
  {
   "cell_type": "code",
   "execution_count": 2,
   "id": "e3e07f77",
   "metadata": {
    "execution": {
     "iopub.execute_input": "2023-09-04T13:42:04.418531Z",
     "iopub.status.busy": "2023-09-04T13:42:04.417006Z",
     "iopub.status.idle": "2023-09-04T13:42:04.429667Z",
     "shell.execute_reply": "2023-09-04T13:42:04.428215Z"
    },
    "papermill": {
     "duration": 0.023065,
     "end_time": "2023-09-04T13:42:04.432769",
     "exception": false,
     "start_time": "2023-09-04T13:42:04.409704",
     "status": "completed"
    },
    "tags": []
   },
   "outputs": [
    {
     "name": "stdout",
     "output_type": "stream",
     "text": [
      "a :  [1 2 3 4 5]\n",
      "co :  [1 2 3 4 5]\n"
     ]
    }
   ],
   "source": [
    "a=np.array([1,2,3,4,5])\n",
    "co=a.copy()\n",
    "print(\"a : \",a)\n",
    "print(\"co : \",co)"
   ]
  },
  {
   "cell_type": "code",
   "execution_count": 3,
   "id": "88494aeb",
   "metadata": {
    "execution": {
     "iopub.execute_input": "2023-09-04T13:42:04.447443Z",
     "iopub.status.busy": "2023-09-04T13:42:04.447015Z",
     "iopub.status.idle": "2023-09-04T13:42:04.454420Z",
     "shell.execute_reply": "2023-09-04T13:42:04.452961Z"
    },
    "papermill": {
     "duration": 0.018225,
     "end_time": "2023-09-04T13:42:04.457086",
     "exception": false,
     "start_time": "2023-09-04T13:42:04.438861",
     "status": "completed"
    },
    "tags": []
   },
   "outputs": [
    {
     "name": "stdout",
     "output_type": "stream",
     "text": [
      "b :  [5 4 3 2 1]\n",
      "vi :  [5 4 3 2 1]\n"
     ]
    }
   ],
   "source": [
    "b=np.array([5,4,3,2,1])\n",
    "vi=b.view()\n",
    "print(\"b : \",b)\n",
    "print(\"vi : \",vi)"
   ]
  },
  {
   "cell_type": "markdown",
   "id": "3d498e96",
   "metadata": {
    "papermill": {
     "duration": 0.006289,
     "end_time": "2023-09-04T13:42:04.469177",
     "exception": false,
     "start_time": "2023-09-04T13:42:04.462888",
     "status": "completed"
    },
    "tags": []
   },
   "source": [
    "* coppys data has its own data\n",
    "* view not has no original data \n",
    "* If i use copy and change , then it will not reflect to original copy\n",
    "* if i change in view it change original data"
   ]
  },
  {
   "cell_type": "code",
   "execution_count": 4,
   "id": "7f29cc43",
   "metadata": {
    "execution": {
     "iopub.execute_input": "2023-09-04T13:42:04.482595Z",
     "iopub.status.busy": "2023-09-04T13:42:04.482121Z",
     "iopub.status.idle": "2023-09-04T13:42:04.489190Z",
     "shell.execute_reply": "2023-09-04T13:42:04.487679Z"
    },
    "papermill": {
     "duration": 0.018047,
     "end_time": "2023-09-04T13:42:04.492714",
     "exception": false,
     "start_time": "2023-09-04T13:42:04.474667",
     "status": "completed"
    },
    "tags": []
   },
   "outputs": [
    {
     "name": "stdout",
     "output_type": "stream",
     "text": [
      "a :  [  1 100   3   4   5]\n",
      "co :  [1 2 3 4 5]\n"
     ]
    }
   ],
   "source": [
    "# let change\n",
    "co=a.copy()\n",
    "a[1]=100\n",
    "print(\"a : \",a)\n",
    "print(\"co : \",co)"
   ]
  },
  {
   "cell_type": "code",
   "execution_count": 5,
   "id": "937bae82",
   "metadata": {
    "execution": {
     "iopub.execute_input": "2023-09-04T13:42:04.506483Z",
     "iopub.status.busy": "2023-09-04T13:42:04.506011Z",
     "iopub.status.idle": "2023-09-04T13:42:04.513822Z",
     "shell.execute_reply": "2023-09-04T13:42:04.512076Z"
    },
    "papermill": {
     "duration": 0.018503,
     "end_time": "2023-09-04T13:42:04.517060",
     "exception": false,
     "start_time": "2023-09-04T13:42:04.498557",
     "status": "completed"
    },
    "tags": []
   },
   "outputs": [
    {
     "name": "stdout",
     "output_type": "stream",
     "text": [
      "b :  [  5 100   3   2   1]\n",
      "vi :  [  5 100   3   2   1]\n"
     ]
    }
   ],
   "source": [
    "vi=b.view()\n",
    "b[1]=100\n",
    "print(\"b : \",b)\n",
    "print(\"vi : \",vi)"
   ]
  }
 ],
 "kernelspec": {
  "display_name": "Python 3",
  "language": "python",
  "name": "python3"
 },
 "language_info": {
  "codemirror_mode": {
   "name": "ipython",
   "version": 3
  },
  "file_extension": ".py",
  "mimetype": "text/x-python",
  "name": "python",
  "nbconvert_exporter": "python",
  "pygments_lexer": "ipython3",
  "version": "3.6.4"
 },
 "metadata": {
  "kernelspec": {
   "display_name": "Python 3",
   "language": "python",
   "name": "python3"
  },
  "language_info": {
   "codemirror_mode": {
    "name": "ipython",
    "version": 3
   },
   "file_extension": ".py",
   "mimetype": "text/x-python",
   "name": "python",
   "nbconvert_exporter": "python",
   "pygments_lexer": "ipython3",
   "version": "3.10.12"
  },
  "papermill": {
   "default_parameters": {},
   "duration": 4.67677,
   "end_time": "2023-09-04T13:42:04.944412",
   "environment_variables": {},
   "exception": null,
   "input_path": "__notebook__.ipynb",
   "output_path": "__notebook__.ipynb",
   "parameters": {},
   "start_time": "2023-09-04T13:42:00.267642",
   "version": "2.4.0"
  }
 },
 "nbformat": 4,
 "nbformat_minor": 5
}
