{
 "cells": [
  {
   "cell_type": "code",
   "execution_count": 1,
   "id": "4c9b67d0",
   "metadata": {
    "_cell_guid": "b1076dfc-b9ad-4769-8c92-a6c4dae69d19",
    "_uuid": "8f2839f25d086af736a60e9eeb907d3b93b6e0e5",
    "execution": {
     "iopub.execute_input": "2023-09-03T04:56:32.839517Z",
     "iopub.status.busy": "2023-09-03T04:56:32.839106Z",
     "iopub.status.idle": "2023-09-03T04:56:32.852948Z",
     "shell.execute_reply": "2023-09-03T04:56:32.851435Z"
    },
    "papermill": {
     "duration": 0.025011,
     "end_time": "2023-09-03T04:56:32.855200",
     "exception": false,
     "start_time": "2023-09-03T04:56:32.830189",
     "status": "completed"
    },
    "tags": []
   },
   "outputs": [
    {
     "name": "stdout",
     "output_type": "stream",
     "text": [
      "Imported\n"
     ]
    }
   ],
   "source": [
    "import numpy as np\n",
    "print('Imported')"
   ]
  },
  {
   "cell_type": "markdown",
   "id": "19e349ff",
   "metadata": {
    "papermill": {
     "duration": 0.006092,
     "end_time": "2023-09-03T04:56:32.867923",
     "exception": false,
     "start_time": "2023-09-03T04:56:32.861831",
     "status": "completed"
    },
    "tags": []
   },
   "source": [
    "# zeros"
   ]
  },
  {
   "cell_type": "code",
   "execution_count": 2,
   "id": "cc1afa71",
   "metadata": {
    "execution": {
     "iopub.execute_input": "2023-09-03T04:56:32.883229Z",
     "iopub.status.busy": "2023-09-03T04:56:32.882449Z",
     "iopub.status.idle": "2023-09-03T04:56:32.890308Z",
     "shell.execute_reply": "2023-09-03T04:56:32.888949Z"
    },
    "papermill": {
     "duration": 0.018972,
     "end_time": "2023-09-03T04:56:32.893172",
     "exception": false,
     "start_time": "2023-09-03T04:56:32.874200",
     "status": "completed"
    },
    "tags": []
   },
   "outputs": [
    {
     "name": "stdout",
     "output_type": "stream",
     "text": [
      "[0. 0. 0. 0.]\n",
      "[[0. 0. 0. 0.]\n",
      " [0. 0. 0. 0.]\n",
      " [0. 0. 0. 0.]]\n"
     ]
    }
   ],
   "source": [
    "#  0  array\n",
    "# 1-D array\n",
    "ar_zero = np.zeros(4)\n",
    "print(ar_zero)\n",
    "# 3x4 array\n",
    "ar_zero1 = np.zeros((3,4))\n",
    "print(ar_zero1)"
   ]
  },
  {
   "cell_type": "markdown",
   "id": "ca48fc59",
   "metadata": {
    "papermill": {
     "duration": 0.007162,
     "end_time": "2023-09-03T04:56:32.907905",
     "exception": false,
     "start_time": "2023-09-03T04:56:32.900743",
     "status": "completed"
    },
    "tags": []
   },
   "source": [
    "# ones"
   ]
  },
  {
   "cell_type": "code",
   "execution_count": 3,
   "id": "2bc743d9",
   "metadata": {
    "execution": {
     "iopub.execute_input": "2023-09-03T04:56:32.926160Z",
     "iopub.status.busy": "2023-09-03T04:56:32.925407Z",
     "iopub.status.idle": "2023-09-03T04:56:32.934182Z",
     "shell.execute_reply": "2023-09-03T04:56:32.932784Z"
    },
    "papermill": {
     "duration": 0.021201,
     "end_time": "2023-09-03T04:56:32.936719",
     "exception": false,
     "start_time": "2023-09-03T04:56:32.915518",
     "status": "completed"
    },
    "tags": []
   },
   "outputs": [
    {
     "name": "stdout",
     "output_type": "stream",
     "text": [
      "[1. 1. 1. 1.]\n",
      "[[1. 1. 1. 1.]\n",
      " [1. 1. 1. 1.]\n",
      " [1. 1. 1. 1.]]\n"
     ]
    }
   ],
   "source": [
    "# 1 array\n",
    "# 1-D array\n",
    "ar_one=np.ones(4)\n",
    "print(ar_one)\n",
    "# 3x4 array\n",
    "ar_one1 = np.ones((3,4))\n",
    "print(ar_one1)"
   ]
  },
  {
   "cell_type": "markdown",
   "id": "9befe206",
   "metadata": {
    "papermill": {
     "duration": 0.007162,
     "end_time": "2023-09-03T04:56:32.950573",
     "exception": false,
     "start_time": "2023-09-03T04:56:32.943411",
     "status": "completed"
    },
    "tags": []
   },
   "source": [
    "# Empty"
   ]
  },
  {
   "cell_type": "code",
   "execution_count": 4,
   "id": "d95e9acd",
   "metadata": {
    "execution": {
     "iopub.execute_input": "2023-09-03T04:56:32.968077Z",
     "iopub.status.busy": "2023-09-03T04:56:32.966965Z",
     "iopub.status.idle": "2023-09-03T04:56:32.974850Z",
     "shell.execute_reply": "2023-09-03T04:56:32.973220Z"
    },
    "papermill": {
     "duration": 0.019581,
     "end_time": "2023-09-03T04:56:32.977337",
     "exception": false,
     "start_time": "2023-09-03T04:56:32.957756",
     "status": "completed"
    },
    "tags": []
   },
   "outputs": [
    {
     "name": "stdout",
     "output_type": "stream",
     "text": [
      "[1. 1. 1. 1.]\n"
     ]
    }
   ],
   "source": [
    "ar_emp = np.empty(4)\n",
    "print(ar_emp)\n",
    "\n",
    "# [1. 1. 1. 1.] is output because previous array memory comes in empty array"
   ]
  },
  {
   "cell_type": "markdown",
   "id": "854ee310",
   "metadata": {
    "papermill": {
     "duration": 0.00689,
     "end_time": "2023-09-03T04:56:32.991380",
     "exception": false,
     "start_time": "2023-09-03T04:56:32.984490",
     "status": "completed"
    },
    "tags": []
   },
   "source": [
    "# arange"
   ]
  },
  {
   "cell_type": "code",
   "execution_count": 5,
   "id": "bebcc589",
   "metadata": {
    "execution": {
     "iopub.execute_input": "2023-09-03T04:56:33.014941Z",
     "iopub.status.busy": "2023-09-03T04:56:33.014229Z",
     "iopub.status.idle": "2023-09-03T04:56:33.022171Z",
     "shell.execute_reply": "2023-09-03T04:56:33.020675Z"
    },
    "papermill": {
     "duration": 0.026607,
     "end_time": "2023-09-03T04:56:33.025162",
     "exception": false,
     "start_time": "2023-09-03T04:56:32.998555",
     "status": "completed"
    },
    "tags": []
   },
   "outputs": [
    {
     "name": "stdout",
     "output_type": "stream",
     "text": [
      "[0 1 2 3]\n"
     ]
    }
   ],
   "source": [
    "ar_rr=np.arange(4)\n",
    "print(ar_rr)"
   ]
  },
  {
   "cell_type": "markdown",
   "id": "68638978",
   "metadata": {
    "papermill": {
     "duration": 0.007729,
     "end_time": "2023-09-03T04:56:33.040479",
     "exception": false,
     "start_time": "2023-09-03T04:56:33.032750",
     "status": "completed"
    },
    "tags": []
   },
   "source": [
    "# Identity matrix"
   ]
  },
  {
   "cell_type": "code",
   "execution_count": 6,
   "id": "d7846f61",
   "metadata": {
    "execution": {
     "iopub.execute_input": "2023-09-03T04:56:33.059351Z",
     "iopub.status.busy": "2023-09-03T04:56:33.058174Z",
     "iopub.status.idle": "2023-09-03T04:56:33.066233Z",
     "shell.execute_reply": "2023-09-03T04:56:33.064922Z"
    },
    "papermill": {
     "duration": 0.02003,
     "end_time": "2023-09-03T04:56:33.068947",
     "exception": false,
     "start_time": "2023-09-03T04:56:33.048917",
     "status": "completed"
    },
    "tags": []
   },
   "outputs": [
    {
     "name": "stdout",
     "output_type": "stream",
     "text": [
      "[[1. 0. 0. 0.]\n",
      " [0. 1. 0. 0.]\n",
      " [0. 0. 1. 0.]\n",
      " [0. 0. 0. 1.]]\n",
      "[[1. 0. 0. 0. 0. 0. 0.]\n",
      " [0. 1. 0. 0. 0. 0. 0.]\n",
      " [0. 0. 1. 0. 0. 0. 0.]\n",
      " [0. 0. 0. 1. 0. 0. 0.]]\n"
     ]
    }
   ],
   "source": [
    "# rows = columns\n",
    "ar_dig= np.eye(4)\n",
    "print(ar_dig)\n",
    "# rows != columns\n",
    "ar_dig= np.eye(4,7)\n",
    "print(ar_dig)"
   ]
  },
  {
   "cell_type": "markdown",
   "id": "fa1f5587",
   "metadata": {
    "papermill": {
     "duration": 0.007135,
     "end_time": "2023-09-03T04:56:33.084037",
     "exception": false,
     "start_time": "2023-09-03T04:56:33.076902",
     "status": "completed"
    },
    "tags": []
   },
   "source": [
    "# space"
   ]
  },
  {
   "cell_type": "code",
   "execution_count": 7,
   "id": "a5446de5",
   "metadata": {
    "execution": {
     "iopub.execute_input": "2023-09-03T04:56:33.101029Z",
     "iopub.status.busy": "2023-09-03T04:56:33.100617Z",
     "iopub.status.idle": "2023-09-03T04:56:33.107879Z",
     "shell.execute_reply": "2023-09-03T04:56:33.106493Z"
    },
    "papermill": {
     "duration": 0.019336,
     "end_time": "2023-09-03T04:56:33.110799",
     "exception": false,
     "start_time": "2023-09-03T04:56:33.091463",
     "status": "completed"
    },
    "tags": []
   },
   "outputs": [
    {
     "name": "stdout",
     "output_type": "stream",
     "text": [
      "[ 0.  5. 10. 15. 20.]\n"
     ]
    }
   ],
   "source": [
    "# equal space saperation\n",
    "ar_sp=np.linspace(0,20,num=5)\n",
    "print(ar_sp)"
   ]
  }
 ],
 "kernelspec": {
  "display_name": "Python 3",
  "language": "python",
  "name": "python3"
 },
 "language_info": {
  "codemirror_mode": {
   "name": "ipython",
   "version": 3
  },
  "file_extension": ".py",
  "mimetype": "text/x-python",
  "name": "python",
  "nbconvert_exporter": "python",
  "pygments_lexer": "ipython3",
  "version": "3.6.4"
 },
 "metadata": {
  "kernelspec": {
   "display_name": "Python 3",
   "language": "python",
   "name": "python3"
  },
  "language_info": {
   "codemirror_mode": {
    "name": "ipython",
    "version": 3
   },
   "file_extension": ".py",
   "mimetype": "text/x-python",
   "name": "python",
   "nbconvert_exporter": "python",
   "pygments_lexer": "ipython3",
   "version": "3.10.12"
  },
  "papermill": {
   "default_parameters": {},
   "duration": 4.384387,
   "end_time": "2023-09-03T04:56:33.538294",
   "environment_variables": {},
   "exception": null,
   "input_path": "__notebook__.ipynb",
   "output_path": "__notebook__.ipynb",
   "parameters": {},
   "start_time": "2023-09-03T04:56:29.153907",
   "version": "2.4.0"
  }
 },
 "nbformat": 4,
 "nbformat_minor": 5
}
