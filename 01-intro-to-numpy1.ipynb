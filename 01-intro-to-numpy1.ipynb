{
 "cells": [
  {
   "cell_type": "code",
   "execution_count": 1,
   "id": "250dd713",
   "metadata": {
    "_cell_guid": "b1076dfc-b9ad-4769-8c92-a6c4dae69d19",
    "_uuid": "8f2839f25d086af736a60e9eeb907d3b93b6e0e5",
    "execution": {
     "iopub.execute_input": "2023-09-02T05:29:29.113545Z",
     "iopub.status.busy": "2023-09-02T05:29:29.112974Z",
     "iopub.status.idle": "2023-09-02T05:29:29.126817Z",
     "shell.execute_reply": "2023-09-02T05:29:29.125527Z"
    },
    "papermill": {
     "duration": 0.023036,
     "end_time": "2023-09-02T05:29:29.129060",
     "exception": false,
     "start_time": "2023-09-02T05:29:29.106024",
     "status": "completed"
    },
    "tags": []
   },
   "outputs": [
    {
     "name": "stdout",
     "output_type": "stream",
     "text": [
      "Imported\n"
     ]
    }
   ],
   "source": [
    "import numpy as np\n",
    "print('Imported')\n",
    "# what is numpy\n",
    "# fundamentaql package for syntiffic computing\n",
    "# very fast \n",
    "# low memory consumer\n",
    "# different arrays support"
   ]
  },
  {
   "cell_type": "code",
   "execution_count": 2,
   "id": "234cad27",
   "metadata": {
    "execution": {
     "iopub.execute_input": "2023-09-02T05:29:29.139665Z",
     "iopub.status.busy": "2023-09-02T05:29:29.138780Z",
     "iopub.status.idle": "2023-09-02T05:29:29.148801Z",
     "shell.execute_reply": "2023-09-02T05:29:29.147012Z"
    },
    "papermill": {
     "duration": 0.018198,
     "end_time": "2023-09-02T05:29:29.151428",
     "exception": false,
     "start_time": "2023-09-02T05:29:29.133230",
     "status": "completed"
    },
    "tags": []
   },
   "outputs": [
    {
     "name": "stdout",
     "output_type": "stream",
     "text": [
      "[1 2 3 4 5]\n",
      "<class 'numpy.ndarray'>\n",
      "[1, 2, 3, 4, 5]\n",
      "<class 'list'>\n"
     ]
    }
   ],
   "source": [
    "# lista and arrays\n",
    "\n",
    "\n",
    "# there are few dimensional arrays \n",
    "# array is low memory consumer\n",
    "# installation \n",
    "\n",
    "# >> pip install numpy \n",
    "\n",
    "# >> numpy --version\n",
    "\n",
    "x=np.array([1,2,3,4,5])\n",
    "print(x)\n",
    "print(type(x))\n",
    "y=[1,2,3,4,5]\n",
    "print(y)\n",
    "print(type(y))"
   ]
  },
  {
   "cell_type": "code",
   "execution_count": 3,
   "id": "6573d074",
   "metadata": {
    "execution": {
     "iopub.execute_input": "2023-09-02T05:29:29.161100Z",
     "iopub.status.busy": "2023-09-02T05:29:29.160741Z",
     "iopub.status.idle": "2023-09-02T05:29:29.165637Z",
     "shell.execute_reply": "2023-09-02T05:29:29.164527Z"
    },
    "papermill": {
     "duration": 0.012221,
     "end_time": "2023-09-02T05:29:29.167736",
     "exception": false,
     "start_time": "2023-09-02T05:29:29.155515",
     "status": "completed"
    },
    "tags": []
   },
   "outputs": [],
   "source": [
    "# WHY\n",
    "# wide variety of operations in mathematics\n",
    "# many builtin functions\n",
    "\n",
    "# thanks"
   ]
  }
 ],
 "kernelspec": {
  "display_name": "Python 3",
  "language": "python",
  "name": "python3"
 },
 "language_info": {
  "codemirror_mode": {
   "name": "ipython",
   "version": 3
  },
  "file_extension": ".py",
  "mimetype": "text/x-python",
  "name": "python",
  "nbconvert_exporter": "python",
  "pygments_lexer": "ipython3",
  "version": "3.6.4"
 },
 "metadata": {
  "kernelspec": {
   "display_name": "Python 3",
   "language": "python",
   "name": "python3"
  },
  "language_info": {
   "codemirror_mode": {
    "name": "ipython",
    "version": 3
   },
   "file_extension": ".py",
   "mimetype": "text/x-python",
   "name": "python",
   "nbconvert_exporter": "python",
   "pygments_lexer": "ipython3",
   "version": "3.10.12"
  },
  "papermill": {
   "default_parameters": {},
   "duration": 4.333636,
   "end_time": "2023-09-02T05:29:29.692611",
   "environment_variables": {},
   "exception": null,
   "input_path": "__notebook__.ipynb",
   "output_path": "__notebook__.ipynb",
   "parameters": {},
   "start_time": "2023-09-02T05:29:25.358975",
   "version": "2.4.0"
  }
 },
 "nbformat": 4,
 "nbformat_minor": 5
}
