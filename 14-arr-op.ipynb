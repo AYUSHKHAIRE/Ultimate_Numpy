{
 "cells": [
  {
   "cell_type": "code",
   "execution_count": 1,
   "id": "45aaeb3c",
   "metadata": {
    "_cell_guid": "b1076dfc-b9ad-4769-8c92-a6c4dae69d19",
    "_uuid": "8f2839f25d086af736a60e9eeb907d3b93b6e0e5",
    "execution": {
     "iopub.execute_input": "2023-09-04T14:16:39.761607Z",
     "iopub.status.busy": "2023-09-04T14:16:39.761246Z",
     "iopub.status.idle": "2023-09-04T14:16:39.770492Z",
     "shell.execute_reply": "2023-09-04T14:16:39.769128Z"
    },
    "papermill": {
     "duration": 0.020007,
     "end_time": "2023-09-04T14:16:39.772829",
     "exception": false,
     "start_time": "2023-09-04T14:16:39.752822",
     "status": "completed"
    },
    "tags": []
   },
   "outputs": [],
   "source": [
    "import numpy as np"
   ]
  },
  {
   "cell_type": "markdown",
   "id": "82c3feda",
   "metadata": {
    "papermill": {
     "duration": 0.00553,
     "end_time": "2023-09-04T14:16:39.783992",
     "exception": false,
     "start_time": "2023-09-04T14:16:39.778462",
     "status": "completed"
    },
    "tags": []
   },
   "source": [
    "# array operations"
   ]
  },
  {
   "cell_type": "markdown",
   "id": "def88664",
   "metadata": {
    "papermill": {
     "duration": 0.004931,
     "end_time": "2023-09-04T14:16:39.794173",
     "exception": false,
     "start_time": "2023-09-04T14:16:39.789242",
     "status": "completed"
    },
    "tags": []
   },
   "source": [
    "# Merging"
   ]
  },
  {
   "cell_type": "markdown",
   "id": "2ef055cf",
   "metadata": {
    "papermill": {
     "duration": 0.00485,
     "end_time": "2023-09-04T14:16:39.804222",
     "exception": false,
     "start_time": "2023-09-04T14:16:39.799372",
     "status": "completed"
    },
    "tags": []
   },
   "source": [
    "* number of elements should same"
   ]
  },
  {
   "cell_type": "markdown",
   "id": "2f131d9f",
   "metadata": {
    "papermill": {
     "duration": 0.004877,
     "end_time": "2023-09-04T14:16:39.814257",
     "exception": false,
     "start_time": "2023-09-04T14:16:39.809380",
     "status": "completed"
    },
    "tags": []
   },
   "source": [
    "* !-D array"
   ]
  },
  {
   "cell_type": "code",
   "execution_count": 2,
   "id": "04529652",
   "metadata": {
    "execution": {
     "iopub.execute_input": "2023-09-04T14:16:39.826307Z",
     "iopub.status.busy": "2023-09-04T14:16:39.825986Z",
     "iopub.status.idle": "2023-09-04T14:16:39.834037Z",
     "shell.execute_reply": "2023-09-04T14:16:39.833140Z"
    },
    "papermill": {
     "duration": 0.016435,
     "end_time": "2023-09-04T14:16:39.835941",
     "exception": false,
     "start_time": "2023-09-04T14:16:39.819506",
     "status": "completed"
    },
    "tags": []
   },
   "outputs": [
    {
     "name": "stdout",
     "output_type": "stream",
     "text": [
      "[1 2 3 4]\n",
      "[4 3 2 1]\n",
      "[1 2 3 4 4 3 2 1]\n"
     ]
    }
   ],
   "source": [
    "a=np.array([1,2,3,4])\n",
    "b=np.array([4,3,2,1])\n",
    "ar=np.concatenate((a,b))\n",
    "print(a)\n",
    "print(b)\n",
    "print(ar)"
   ]
  },
  {
   "cell_type": "markdown",
   "id": "5baa6fcd",
   "metadata": {
    "papermill": {
     "duration": 0.005144,
     "end_time": "2023-09-04T14:16:39.846534",
     "exception": false,
     "start_time": "2023-09-04T14:16:39.841390",
     "status": "completed"
    },
    "tags": []
   },
   "source": [
    "* 2-D array"
   ]
  },
  {
   "cell_type": "code",
   "execution_count": 3,
   "id": "aadad8c0",
   "metadata": {
    "execution": {
     "iopub.execute_input": "2023-09-04T14:16:39.861924Z",
     "iopub.status.busy": "2023-09-04T14:16:39.861152Z",
     "iopub.status.idle": "2023-09-04T14:16:39.868158Z",
     "shell.execute_reply": "2023-09-04T14:16:39.866929Z"
    },
    "papermill": {
     "duration": 0.01711,
     "end_time": "2023-09-04T14:16:39.870123",
     "exception": false,
     "start_time": "2023-09-04T14:16:39.853013",
     "status": "completed"
    },
    "tags": []
   },
   "outputs": [
    {
     "name": "stdout",
     "output_type": "stream",
     "text": [
      "[[1 2]\n",
      " [3 2]]\n",
      "[[2 3]\n",
      " [4 5]]\n",
      "[[1 2 2 3]\n",
      " [3 2 4 5]]\n",
      "[[1 2]\n",
      " [3 2]\n",
      " [2 3]\n",
      " [4 5]]\n"
     ]
    }
   ],
   "source": [
    "c = np.array([[1, 2], [3, 2]])\n",
    "d = np.array([[2, 3], [4, 5]])\n",
    "ar1 = np.concatenate((c, d), axis=1)\n",
    "ar2 = np.concatenate((c, d), axis=0)\n",
    "print(c)\n",
    "print(d)\n",
    "print(ar1)\n",
    "print(ar2)"
   ]
  },
  {
   "cell_type": "code",
   "execution_count": 4,
   "id": "fe054356",
   "metadata": {
    "execution": {
     "iopub.execute_input": "2023-09-04T14:16:39.882647Z",
     "iopub.status.busy": "2023-09-04T14:16:39.881968Z",
     "iopub.status.idle": "2023-09-04T14:16:39.887614Z",
     "shell.execute_reply": "2023-09-04T14:16:39.886431Z"
    },
    "papermill": {
     "duration": 0.013923,
     "end_time": "2023-09-04T14:16:39.889399",
     "exception": false,
     "start_time": "2023-09-04T14:16:39.875476",
     "status": "completed"
    },
    "tags": []
   },
   "outputs": [
    {
     "name": "stdout",
     "output_type": "stream",
     "text": [
      "[[1 4]\n",
      " [2 3]\n",
      " [3 2]\n",
      " [4 1]]\n"
     ]
    }
   ],
   "source": [
    "ar3=np.stack((a,b),axis=1)\n",
    "print(ar3)"
   ]
  },
  {
   "cell_type": "code",
   "execution_count": 5,
   "id": "e336693b",
   "metadata": {
    "execution": {
     "iopub.execute_input": "2023-09-04T14:16:39.901795Z",
     "iopub.status.busy": "2023-09-04T14:16:39.901203Z",
     "iopub.status.idle": "2023-09-04T14:16:39.907541Z",
     "shell.execute_reply": "2023-09-04T14:16:39.905536Z"
    },
    "papermill": {
     "duration": 0.015246,
     "end_time": "2023-09-04T14:16:39.910129",
     "exception": false,
     "start_time": "2023-09-04T14:16:39.894883",
     "status": "completed"
    },
    "tags": []
   },
   "outputs": [
    {
     "name": "stdout",
     "output_type": "stream",
     "text": [
      "[[[1 2]\n",
      "  [2 3]]\n",
      "\n",
      " [[3 2]\n",
      "  [4 5]]]\n"
     ]
    }
   ],
   "source": [
    "ar4=np.stack((c,d),axis=1)\n",
    "print(ar4)"
   ]
  },
  {
   "cell_type": "code",
   "execution_count": 6,
   "id": "e48d5211",
   "metadata": {
    "execution": {
     "iopub.execute_input": "2023-09-04T14:16:39.923020Z",
     "iopub.status.busy": "2023-09-04T14:16:39.922365Z",
     "iopub.status.idle": "2023-09-04T14:16:39.928031Z",
     "shell.execute_reply": "2023-09-04T14:16:39.926765Z"
    },
    "papermill": {
     "duration": 0.014877,
     "end_time": "2023-09-04T14:16:39.930579",
     "exception": false,
     "start_time": "2023-09-04T14:16:39.915702",
     "status": "completed"
    },
    "tags": []
   },
   "outputs": [
    {
     "name": "stdout",
     "output_type": "stream",
     "text": [
      "[1 2 3 4 4 3 2 1]\n"
     ]
    }
   ],
   "source": [
    "# along row\n",
    "ar3=np.hstack((a,b))\n",
    "print(ar3)"
   ]
  },
  {
   "cell_type": "code",
   "execution_count": 7,
   "id": "5c984b09",
   "metadata": {
    "execution": {
     "iopub.execute_input": "2023-09-04T14:16:39.944484Z",
     "iopub.status.busy": "2023-09-04T14:16:39.943774Z",
     "iopub.status.idle": "2023-09-04T14:16:39.949062Z",
     "shell.execute_reply": "2023-09-04T14:16:39.948145Z"
    },
    "papermill": {
     "duration": 0.013731,
     "end_time": "2023-09-04T14:16:39.950740",
     "exception": false,
     "start_time": "2023-09-04T14:16:39.937009",
     "status": "completed"
    },
    "tags": []
   },
   "outputs": [
    {
     "name": "stdout",
     "output_type": "stream",
     "text": [
      "[[1 2 3 4]\n",
      " [4 3 2 1]]\n"
     ]
    }
   ],
   "source": [
    "# along colums\n",
    "ar3=np.vstack((a,b))\n",
    "print(ar3)"
   ]
  },
  {
   "cell_type": "code",
   "execution_count": 8,
   "id": "19419614",
   "metadata": {
    "execution": {
     "iopub.execute_input": "2023-09-04T14:16:39.963409Z",
     "iopub.status.busy": "2023-09-04T14:16:39.962783Z",
     "iopub.status.idle": "2023-09-04T14:16:39.968143Z",
     "shell.execute_reply": "2023-09-04T14:16:39.966955Z"
    },
    "papermill": {
     "duration": 0.014137,
     "end_time": "2023-09-04T14:16:39.970309",
     "exception": false,
     "start_time": "2023-09-04T14:16:39.956172",
     "status": "completed"
    },
    "tags": []
   },
   "outputs": [
    {
     "name": "stdout",
     "output_type": "stream",
     "text": [
      "[[[1 4]\n",
      "  [2 3]\n",
      "  [3 2]\n",
      "  [4 1]]]\n"
     ]
    }
   ],
   "source": [
    "# along height\n",
    "ar3=np.dstack((a,b))\n",
    "print(ar3)"
   ]
  },
  {
   "cell_type": "markdown",
   "id": "060b1fd8",
   "metadata": {
    "papermill": {
     "duration": 0.00506,
     "end_time": "2023-09-04T14:16:39.980921",
     "exception": false,
     "start_time": "2023-09-04T14:16:39.975861",
     "status": "completed"
    },
    "tags": []
   },
   "source": [
    "# Split array"
   ]
  },
  {
   "cell_type": "code",
   "execution_count": 9,
   "id": "8cf53d50",
   "metadata": {
    "execution": {
     "iopub.execute_input": "2023-09-04T14:16:39.993508Z",
     "iopub.status.busy": "2023-09-04T14:16:39.992966Z",
     "iopub.status.idle": "2023-09-04T14:16:40.002302Z",
     "shell.execute_reply": "2023-09-04T14:16:40.000994Z"
    },
    "papermill": {
     "duration": 0.018215,
     "end_time": "2023-09-04T14:16:40.004346",
     "exception": false,
     "start_time": "2023-09-04T14:16:39.986131",
     "status": "completed"
    },
    "tags": []
   },
   "outputs": [
    {
     "name": "stdout",
     "output_type": "stream",
     "text": [
      "[1 2 3 4 5 6 7 8]\n",
      "[array([1, 2]), array([3, 4])]\n",
      "[array([1]), array([2]), array([3]), array([4])]\n"
     ]
    }
   ],
   "source": [
    "p=np.array([1,2,3,4,5,6,7,8])\n",
    "print(p)\n",
    "ar=np.array_split(a,2)\n",
    "print(ar)\n",
    "ar2=np.array_split(a,4)\n",
    "print(ar2)"
   ]
  },
  {
   "cell_type": "code",
   "execution_count": 10,
   "id": "e33278c5",
   "metadata": {
    "execution": {
     "iopub.execute_input": "2023-09-04T14:16:40.016617Z",
     "iopub.status.busy": "2023-09-04T14:16:40.016318Z",
     "iopub.status.idle": "2023-09-04T14:16:40.021097Z",
     "shell.execute_reply": "2023-09-04T14:16:40.020328Z"
    },
    "papermill": {
     "duration": 0.012815,
     "end_time": "2023-09-04T14:16:40.022772",
     "exception": false,
     "start_time": "2023-09-04T14:16:40.009957",
     "status": "completed"
    },
    "tags": []
   },
   "outputs": [
    {
     "name": "stdout",
     "output_type": "stream",
     "text": [
      "[1]\n"
     ]
    }
   ],
   "source": [
    "print(ar2[0])"
   ]
  },
  {
   "cell_type": "code",
   "execution_count": 11,
   "id": "f1daa697",
   "metadata": {
    "execution": {
     "iopub.execute_input": "2023-09-04T14:16:40.035352Z",
     "iopub.status.busy": "2023-09-04T14:16:40.034875Z",
     "iopub.status.idle": "2023-09-04T14:16:40.040124Z",
     "shell.execute_reply": "2023-09-04T14:16:40.039191Z"
    },
    "papermill": {
     "duration": 0.013551,
     "end_time": "2023-09-04T14:16:40.041791",
     "exception": false,
     "start_time": "2023-09-04T14:16:40.028240",
     "status": "completed"
    },
    "tags": []
   },
   "outputs": [
    {
     "name": "stdout",
     "output_type": "stream",
     "text": [
      "[[1 2]\n",
      " [3 4]\n",
      " [5 6]]\n",
      "[array([[1, 2]]), array([[3, 4]]), array([[5, 6]])]\n"
     ]
    }
   ],
   "source": [
    "b=np.array([[1,2],[3,4],[5,6]])\n",
    "print(b)\n",
    "ar4=np.array_split(b,3)\n",
    "print(ar4)"
   ]
  },
  {
   "cell_type": "code",
   "execution_count": 12,
   "id": "4d6152f2",
   "metadata": {
    "execution": {
     "iopub.execute_input": "2023-09-04T14:16:40.054991Z",
     "iopub.status.busy": "2023-09-04T14:16:40.054417Z",
     "iopub.status.idle": "2023-09-04T14:16:40.059324Z",
     "shell.execute_reply": "2023-09-04T14:16:40.058231Z"
    },
    "papermill": {
     "duration": 0.014229,
     "end_time": "2023-09-04T14:16:40.061666",
     "exception": false,
     "start_time": "2023-09-04T14:16:40.047437",
     "status": "completed"
    },
    "tags": []
   },
   "outputs": [
    {
     "name": "stdout",
     "output_type": "stream",
     "text": [
      "[array([[1],\n",
      "       [3],\n",
      "       [5]]), array([[2],\n",
      "       [4],\n",
      "       [6]]), array([], shape=(3, 0), dtype=int64)]\n"
     ]
    }
   ],
   "source": [
    "ar5=np.array_split(b,3,axis=1)\n",
    "print(ar5)"
   ]
  }
 ],
 "kernelspec": {
  "display_name": "Python 3",
  "language": "python",
  "name": "python3"
 },
 "language_info": {
  "codemirror_mode": {
   "name": "ipython",
   "version": 3
  },
  "file_extension": ".py",
  "mimetype": "text/x-python",
  "name": "python",
  "nbconvert_exporter": "python",
  "pygments_lexer": "ipython3",
  "version": "3.6.4"
 },
 "metadata": {
  "kernelspec": {
   "display_name": "Python 3",
   "language": "python",
   "name": "python3"
  },
  "language_info": {
   "codemirror_mode": {
    "name": "ipython",
    "version": 3
   },
   "file_extension": ".py",
   "mimetype": "text/x-python",
   "name": "python",
   "nbconvert_exporter": "python",
   "pygments_lexer": "ipython3",
   "version": "3.10.12"
  },
  "papermill": {
   "default_parameters": {},
   "duration": 3.613279,
   "end_time": "2023-09-04T14:16:40.386954",
   "environment_variables": {},
   "exception": null,
   "input_path": "__notebook__.ipynb",
   "output_path": "__notebook__.ipynb",
   "parameters": {},
   "start_time": "2023-09-04T14:16:36.773675",
   "version": "2.4.0"
  }
 },
 "nbformat": 4,
 "nbformat_minor": 5
}
