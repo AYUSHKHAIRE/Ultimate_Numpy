{
 "cells": [
  {
   "cell_type": "code",
   "execution_count": 1,
   "id": "ee66cad0",
   "metadata": {
    "_cell_guid": "b1076dfc-b9ad-4769-8c92-a6c4dae69d19",
    "_uuid": "8f2839f25d086af736a60e9eeb907d3b93b6e0e5",
    "execution": {
     "iopub.execute_input": "2023-09-06T05:55:17.473408Z",
     "iopub.status.busy": "2023-09-06T05:55:17.472430Z",
     "iopub.status.idle": "2023-09-06T05:55:17.482737Z",
     "shell.execute_reply": "2023-09-06T05:55:17.481911Z"
    },
    "papermill": {
     "duration": 0.020716,
     "end_time": "2023-09-06T05:55:17.485125",
     "exception": false,
     "start_time": "2023-09-06T05:55:17.464409",
     "status": "completed"
    },
    "tags": []
   },
   "outputs": [],
   "source": [
    "import numpy as np"
   ]
  },
  {
   "cell_type": "markdown",
   "id": "447dda65",
   "metadata": {
    "papermill": {
     "duration": 0.004568,
     "end_time": "2023-09-06T05:55:17.494499",
     "exception": false,
     "start_time": "2023-09-06T05:55:17.489931",
     "status": "completed"
    },
    "tags": []
   },
   "source": [
    "# Matrix"
   ]
  },
  {
   "cell_type": "code",
   "execution_count": 2,
   "id": "bdb6451b",
   "metadata": {
    "execution": {
     "iopub.execute_input": "2023-09-06T05:55:17.505349Z",
     "iopub.status.busy": "2023-09-06T05:55:17.504984Z",
     "iopub.status.idle": "2023-09-06T05:55:17.512831Z",
     "shell.execute_reply": "2023-09-06T05:55:17.511705Z"
    },
    "papermill": {
     "duration": 0.016756,
     "end_time": "2023-09-06T05:55:17.515765",
     "exception": false,
     "start_time": "2023-09-06T05:55:17.499009",
     "status": "completed"
    },
    "tags": []
   },
   "outputs": [
    {
     "name": "stdout",
     "output_type": "stream",
     "text": [
      "[[1 2 3]\n",
      " [1 2 3]]\n",
      "<class 'numpy.matrix'>\n"
     ]
    }
   ],
   "source": [
    "a=np.matrix([[1,2,3],[1,2,3]])\n",
    "print(a)\n",
    "print(type(a))"
   ]
  },
  {
   "cell_type": "code",
   "execution_count": 3,
   "id": "0dcf614c",
   "metadata": {
    "execution": {
     "iopub.execute_input": "2023-09-06T05:55:17.527300Z",
     "iopub.status.busy": "2023-09-06T05:55:17.526882Z",
     "iopub.status.idle": "2023-09-06T05:55:17.533207Z",
     "shell.execute_reply": "2023-09-06T05:55:17.532060Z"
    },
    "papermill": {
     "duration": 0.014729,
     "end_time": "2023-09-06T05:55:17.535670",
     "exception": false,
     "start_time": "2023-09-06T05:55:17.520941",
     "status": "completed"
    },
    "tags": []
   },
   "outputs": [
    {
     "name": "stdout",
     "output_type": "stream",
     "text": [
      "[[1 2 3]\n",
      " [1 2 3]]\n",
      "<class 'numpy.ndarray'>\n"
     ]
    }
   ],
   "source": [
    "b=np.array([[1,2,3],[1,2,3]])\n",
    "print(b)\n",
    "print(type(b))"
   ]
  },
  {
   "cell_type": "code",
   "execution_count": 4,
   "id": "375b68a9",
   "metadata": {
    "execution": {
     "iopub.execute_input": "2023-09-06T05:55:17.547534Z",
     "iopub.status.busy": "2023-09-06T05:55:17.547119Z",
     "iopub.status.idle": "2023-09-06T05:55:17.553950Z",
     "shell.execute_reply": "2023-09-06T05:55:17.552341Z"
    },
    "papermill": {
     "duration": 0.015553,
     "end_time": "2023-09-06T05:55:17.556115",
     "exception": false,
     "start_time": "2023-09-06T05:55:17.540562",
     "status": "completed"
    },
    "tags": []
   },
   "outputs": [
    {
     "name": "stdout",
     "output_type": "stream",
     "text": [
      "[[2 3 4]\n",
      " [5 6 4]]\n",
      "<class 'numpy.matrix'>\n"
     ]
    }
   ],
   "source": [
    "c=np.matrix([[2,3,4],[5,6,4]])\n",
    "print(c)\n",
    "print(type(c))\n"
   ]
  },
  {
   "cell_type": "code",
   "execution_count": 5,
   "id": "ed13b8a0",
   "metadata": {
    "execution": {
     "iopub.execute_input": "2023-09-06T05:55:17.567371Z",
     "iopub.status.busy": "2023-09-06T05:55:17.566976Z",
     "iopub.status.idle": "2023-09-06T05:55:17.576358Z",
     "shell.execute_reply": "2023-09-06T05:55:17.574464Z"
    },
    "papermill": {
     "duration": 0.018484,
     "end_time": "2023-09-06T05:55:17.579318",
     "exception": false,
     "start_time": "2023-09-06T05:55:17.560834",
     "status": "completed"
    },
    "tags": []
   },
   "outputs": [
    {
     "name": "stdout",
     "output_type": "stream",
     "text": [
      "[[3 5 7]\n",
      " [6 8 7]]\n",
      "\n",
      "\n",
      "[[-1 -1 -1]\n",
      " [-4 -4 -1]]\n",
      "\n",
      "\n"
     ]
    }
   ],
   "source": [
    "print(a+c)\n",
    "print(\"\\n\")\n",
    "print(a-c)\n",
    "print(\"\\n\")"
   ]
  },
  {
   "cell_type": "code",
   "execution_count": 6,
   "id": "b918edc3",
   "metadata": {
    "execution": {
     "iopub.execute_input": "2023-09-06T05:55:17.593433Z",
     "iopub.status.busy": "2023-09-06T05:55:17.593051Z",
     "iopub.status.idle": "2023-09-06T05:55:17.600752Z",
     "shell.execute_reply": "2023-09-06T05:55:17.599528Z"
    },
    "papermill": {
     "duration": 0.017581,
     "end_time": "2023-09-06T05:55:17.603572",
     "exception": false,
     "start_time": "2023-09-06T05:55:17.585991",
     "status": "completed"
    },
    "tags": []
   },
   "outputs": [
    {
     "name": "stdout",
     "output_type": "stream",
     "text": [
      "[[1 2 3]\n",
      " [4 5 6]\n",
      " [7 8 9]]\n",
      "\n",
      "[[3 2 1]\n",
      " [6 5 4]\n",
      " [9 8 7]]\n",
      "\n",
      "[[ 42  36  30]\n",
      " [ 96  81  66]\n",
      " [150 126 102]]\n"
     ]
    }
   ],
   "source": [
    "e=np.array([[1,2,3],[4,5,6],[7,8,9]])\n",
    "f=np.array([[3,2,1],[6,5,4],[9,8,7]])\n",
    "print(e)\n",
    "print('')\n",
    "print(f)\n",
    "print('')\n",
    "print(e.dot(f))"
   ]
  },
  {
   "cell_type": "code",
   "execution_count": 7,
   "id": "fad019b5",
   "metadata": {
    "execution": {
     "iopub.execute_input": "2023-09-06T05:55:17.616419Z",
     "iopub.status.busy": "2023-09-06T05:55:17.616049Z",
     "iopub.status.idle": "2023-09-06T05:55:17.621650Z",
     "shell.execute_reply": "2023-09-06T05:55:17.620515Z"
    },
    "papermill": {
     "duration": 0.015629,
     "end_time": "2023-09-06T05:55:17.624034",
     "exception": false,
     "start_time": "2023-09-06T05:55:17.608405",
     "status": "completed"
    },
    "tags": []
   },
   "outputs": [
    {
     "name": "stdout",
     "output_type": "stream",
     "text": [
      "[[1 4 9]\n",
      " [1 4 9]]\n"
     ]
    }
   ],
   "source": [
    "print(b*b)"
   ]
  },
  {
   "cell_type": "code",
   "execution_count": 8,
   "id": "2df081a2",
   "metadata": {
    "execution": {
     "iopub.execute_input": "2023-09-06T05:55:17.636919Z",
     "iopub.status.busy": "2023-09-06T05:55:17.636535Z",
     "iopub.status.idle": "2023-09-06T05:55:17.663521Z",
     "shell.execute_reply": "2023-09-06T05:55:17.661952Z"
    },
    "papermill": {
     "duration": 0.036611,
     "end_time": "2023-09-06T05:55:17.666666",
     "exception": false,
     "start_time": "2023-09-06T05:55:17.630055",
     "status": "completed"
    },
    "tags": []
   },
   "outputs": [
    {
     "name": "stdout",
     "output_type": "stream",
     "text": [
      "[[2 3 4]\n",
      " [5 5 7]\n",
      " [8 6 5]]\n",
      "\n",
      "[[2 5 8]\n",
      " [3 5 6]\n",
      " [4 7 5]]\n",
      "or\n",
      "[[2 5 8]\n",
      " [3 5 6]\n",
      " [4 7 5]]\n",
      "\n",
      "[[2 5 8]\n",
      " [3 5 6]\n",
      " [4 7 5]]\n",
      "\n",
      "[[-0.89473684  0.47368421  0.05263158]\n",
      " [ 1.63157895 -1.15789474  0.31578947]\n",
      " [-0.52631579  0.63157895 -0.26315789]]\n",
      "\n",
      "[[1 0 0]\n",
      " [0 1 0]\n",
      " [0 0 1]]\n",
      "\n",
      "[[ 719  672  764]\n",
      " [1312 1223 1388]\n",
      " [1384 1272 1427]]\n",
      "\n",
      "[[-2.96180201  1.87549205 -0.23851873]\n",
      " [ 7.11007435 -4.57253244  0.64090975]\n",
      " [-3.46522817  2.25688876 -0.33926228]]\n",
      "\n",
      "18.999999999999996\n",
      "\n"
     ]
    }
   ],
   "source": [
    "g=np.matrix([[2,3,4],[5,5,7],[8,6,5]])\n",
    "print(g)\n",
    "print('')\n",
    "\n",
    "t=np.transpose(g)\n",
    "print(t)\n",
    "print('or')\n",
    "print(g.T)\n",
    "print('')\n",
    "\n",
    "# swapxces\n",
    "sa=np.swapaxes(g,0,1)\n",
    "print(sa)\n",
    "print('')\n",
    "\n",
    "# inverse\n",
    "i=np.linalg.inv(g)\n",
    "print(i)\n",
    "print('')\n",
    "\n",
    "# power\n",
    "p=np.linalg.matrix_power(g,0)\n",
    "print(p)\n",
    "print('')\n",
    "\n",
    "p3=np.linalg.matrix_power(g,3)\n",
    "print(p3)\n",
    "print('')\n",
    "\n",
    "p_3=np.linalg.matrix_power(g,-3)\n",
    "print(p_3)\n",
    "print('')\n",
    "\n",
    "# determinint\n",
    "d=np.linalg.det(g)\n",
    "print(d)\n",
    "print('')"
   ]
  },
  {
   "cell_type": "markdown",
   "id": "2e49f95e",
   "metadata": {
    "papermill": {
     "duration": 0.006365,
     "end_time": "2023-09-06T05:55:17.678116",
     "exception": false,
     "start_time": "2023-09-06T05:55:17.671751",
     "status": "completed"
    },
    "tags": []
   },
   "source": [
    " # Congratulations !!\n",
    " Certificate of completion\n",
    " to,\n",
    " Dear candidate ,\n",
    " Congratulations for completing Numpy successfully"
   ]
  }
 ],
 "kernelspec": {
  "display_name": "Python 3",
  "language": "python",
  "name": "python3"
 },
 "language_info": {
  "codemirror_mode": {
   "name": "ipython",
   "version": 3
  },
  "file_extension": ".py",
  "mimetype": "text/x-python",
  "name": "python",
  "nbconvert_exporter": "python",
  "pygments_lexer": "ipython3",
  "version": "3.6.4"
 },
 "metadata": {
  "kernelspec": {
   "display_name": "Python 3",
   "language": "python",
   "name": "python3"
  },
  "language_info": {
   "codemirror_mode": {
    "name": "ipython",
    "version": 3
   },
   "file_extension": ".py",
   "mimetype": "text/x-python",
   "name": "python",
   "nbconvert_exporter": "python",
   "pygments_lexer": "ipython3",
   "version": "3.10.12"
  },
  "papermill": {
   "default_parameters": {},
   "duration": 4.029331,
   "end_time": "2023-09-06T05:55:18.105201",
   "environment_variables": {},
   "exception": null,
   "input_path": "__notebook__.ipynb",
   "output_path": "__notebook__.ipynb",
   "parameters": {},
   "start_time": "2023-09-06T05:55:14.075870",
   "version": "2.4.0"
  }
 },
 "nbformat": 4,
 "nbformat_minor": 5
}
