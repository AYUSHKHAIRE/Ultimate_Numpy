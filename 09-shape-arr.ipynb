{
 "cells": [
  {
   "cell_type": "code",
   "execution_count": 1,
   "id": "c5f50196",
   "metadata": {
    "_cell_guid": "b1076dfc-b9ad-4769-8c92-a6c4dae69d19",
    "_uuid": "8f2839f25d086af736a60e9eeb907d3b93b6e0e5",
    "execution": {
     "iopub.execute_input": "2023-09-03T13:03:59.987506Z",
     "iopub.status.busy": "2023-09-03T13:03:59.987078Z",
     "iopub.status.idle": "2023-09-03T13:03:59.996560Z",
     "shell.execute_reply": "2023-09-03T13:03:59.995441Z"
    },
    "papermill": {
     "duration": 0.017398,
     "end_time": "2023-09-03T13:03:59.998809",
     "exception": false,
     "start_time": "2023-09-03T13:03:59.981411",
     "status": "completed"
    },
    "tags": []
   },
   "outputs": [],
   "source": [
    "import numpy as np"
   ]
  },
  {
   "cell_type": "markdown",
   "id": "4e371c07",
   "metadata": {
    "papermill": {
     "duration": 0.003404,
     "end_time": "2023-09-03T13:04:00.006281",
     "exception": false,
     "start_time": "2023-09-03T13:04:00.002877",
     "status": "completed"
    },
    "tags": []
   },
   "source": [
    "# Shape"
   ]
  },
  {
   "cell_type": "code",
   "execution_count": 2,
   "id": "47e5f174",
   "metadata": {
    "execution": {
     "iopub.execute_input": "2023-09-03T13:04:00.015243Z",
     "iopub.status.busy": "2023-09-03T13:04:00.014863Z",
     "iopub.status.idle": "2023-09-03T13:04:00.023093Z",
     "shell.execute_reply": "2023-09-03T13:04:00.021410Z"
    },
    "papermill": {
     "duration": 0.015991,
     "end_time": "2023-09-03T13:04:00.025836",
     "exception": false,
     "start_time": "2023-09-03T13:04:00.009845",
     "status": "completed"
    },
    "tags": []
   },
   "outputs": [
    {
     "name": "stdout",
     "output_type": "stream",
     "text": [
      "[[1 2]\n",
      " [2 3]]\n",
      "Shape is : (2, 2)\n"
     ]
    }
   ],
   "source": [
    "a=np.array([[1,2],[2,3]])\n",
    "print(a)\n",
    "print(\"Shape is :\",a.shape)"
   ]
  },
  {
   "cell_type": "code",
   "execution_count": 3,
   "id": "e6f9c5db",
   "metadata": {
    "execution": {
     "iopub.execute_input": "2023-09-03T13:04:00.035178Z",
     "iopub.status.busy": "2023-09-03T13:04:00.034795Z",
     "iopub.status.idle": "2023-09-03T13:04:00.040573Z",
     "shell.execute_reply": "2023-09-03T13:04:00.039531Z"
    },
    "papermill": {
     "duration": 0.013395,
     "end_time": "2023-09-03T13:04:00.043098",
     "exception": false,
     "start_time": "2023-09-03T13:04:00.029703",
     "status": "completed"
    },
    "tags": []
   },
   "outputs": [
    {
     "name": "stdout",
     "output_type": "stream",
     "text": [
      "[[[[[[[1 2 3 4]]]]]]]\n",
      "Shape is : (1, 1, 1, 1, 1, 1, 4)\n"
     ]
    }
   ],
   "source": [
    "b=np.array([1,2,3,4],ndmin=7)\n",
    "print(b)\n",
    "print(\"Shape is :\",b.shape)"
   ]
  },
  {
   "cell_type": "markdown",
   "id": "3a8fff76",
   "metadata": {
    "papermill": {
     "duration": 0.003333,
     "end_time": "2023-09-03T13:04:00.050082",
     "exception": false,
     "start_time": "2023-09-03T13:04:00.046749",
     "status": "completed"
    },
    "tags": []
   },
   "source": [
    "* dimension conversion"
   ]
  },
  {
   "cell_type": "code",
   "execution_count": 4,
   "id": "dd4dc6bf",
   "metadata": {
    "execution": {
     "iopub.execute_input": "2023-09-03T13:04:00.059339Z",
     "iopub.status.busy": "2023-09-03T13:04:00.058953Z",
     "iopub.status.idle": "2023-09-03T13:04:00.066387Z",
     "shell.execute_reply": "2023-09-03T13:04:00.065182Z"
    },
    "papermill": {
     "duration": 0.015027,
     "end_time": "2023-09-03T13:04:00.068923",
     "exception": false,
     "start_time": "2023-09-03T13:04:00.053896",
     "status": "completed"
    },
    "tags": []
   },
   "outputs": [
    {
     "name": "stdout",
     "output_type": "stream",
     "text": [
      "the dimension of c is : 1\n",
      "[1 2 3 4 5 6]\n",
      "the dimension of x is : 2\n",
      "[[1 2]\n",
      " [3 4]\n",
      " [5 6]]\n",
      "\n",
      "reshaping ...\n",
      "[1 2 3 4 5 6]\n",
      "1\n"
     ]
    }
   ],
   "source": [
    "c=np.array([1,2,3,4,5,6])\n",
    "x=c.reshape(3,2)\n",
    "print('the dimension of c is :',c.ndim)\n",
    "print(c)\n",
    "print('the dimension of x is :',x.ndim)\n",
    "print(x)\n",
    "# NOTE = ROWs x COLUMNs = Number of total elements\n",
    "print('\\nreshaping ...')\n",
    "y=x.reshape(-1)\n",
    "print(y)\n",
    "print(y.ndim)"
   ]
  }
 ],
 "kernelspec": {
  "display_name": "Python 3",
  "language": "python",
  "name": "python3"
 },
 "language_info": {
  "codemirror_mode": {
   "name": "ipython",
   "version": 3
  },
  "file_extension": ".py",
  "mimetype": "text/x-python",
  "name": "python",
  "nbconvert_exporter": "python",
  "pygments_lexer": "ipython3",
  "version": "3.6.4"
 },
 "metadata": {
  "kernelspec": {
   "display_name": "Python 3",
   "language": "python",
   "name": "python3"
  },
  "language_info": {
   "codemirror_mode": {
    "name": "ipython",
    "version": 3
   },
   "file_extension": ".py",
   "mimetype": "text/x-python",
   "name": "python",
   "nbconvert_exporter": "python",
   "pygments_lexer": "ipython3",
   "version": "3.10.12"
  },
  "papermill": {
   "default_parameters": {},
   "duration": 3.787798,
   "end_time": "2023-09-03T13:04:00.492940",
   "environment_variables": {},
   "exception": null,
   "input_path": "__notebook__.ipynb",
   "output_path": "__notebook__.ipynb",
   "parameters": {},
   "start_time": "2023-09-03T13:03:56.705142",
   "version": "2.4.0"
  }
 },
 "nbformat": 4,
 "nbformat_minor": 5
}
