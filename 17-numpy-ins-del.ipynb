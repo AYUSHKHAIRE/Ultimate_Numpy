{
 "cells": [
  {
   "cell_type": "code",
   "execution_count": 1,
   "id": "d8cda53a",
   "metadata": {
    "_cell_guid": "b1076dfc-b9ad-4769-8c92-a6c4dae69d19",
    "_uuid": "8f2839f25d086af736a60e9eeb907d3b93b6e0e5",
    "execution": {
     "iopub.execute_input": "2023-09-06T05:22:10.452111Z",
     "iopub.status.busy": "2023-09-06T05:22:10.451279Z",
     "iopub.status.idle": "2023-09-06T05:22:10.461696Z",
     "shell.execute_reply": "2023-09-06T05:22:10.460526Z"
    },
    "papermill": {
     "duration": 0.020962,
     "end_time": "2023-09-06T05:22:10.464003",
     "exception": false,
     "start_time": "2023-09-06T05:22:10.443041",
     "status": "completed"
    },
    "tags": []
   },
   "outputs": [],
   "source": [
    "import numpy as np"
   ]
  },
  {
   "cell_type": "markdown",
   "id": "07f8e75b",
   "metadata": {
    "papermill": {
     "duration": 0.004591,
     "end_time": "2023-09-06T05:22:10.473962",
     "exception": false,
     "start_time": "2023-09-06T05:22:10.469371",
     "status": "completed"
    },
    "tags": []
   },
   "source": [
    "# Insert"
   ]
  },
  {
   "cell_type": "code",
   "execution_count": 2,
   "id": "45445d11",
   "metadata": {
    "execution": {
     "iopub.execute_input": "2023-09-06T05:22:10.485399Z",
     "iopub.status.busy": "2023-09-06T05:22:10.485043Z",
     "iopub.status.idle": "2023-09-06T05:22:10.492356Z",
     "shell.execute_reply": "2023-09-06T05:22:10.491091Z"
    },
    "papermill": {
     "duration": 0.016259,
     "end_time": "2023-09-06T05:22:10.495045",
     "exception": false,
     "start_time": "2023-09-06T05:22:10.478786",
     "status": "completed"
    },
    "tags": []
   },
   "outputs": [
    {
     "name": "stdout",
     "output_type": "stream",
     "text": [
      "[1 2 3 4]\n",
      "<class 'numpy.ndarray'>\n"
     ]
    }
   ],
   "source": [
    "a=np.array([1,2,3,4])\n",
    "print(a)\n",
    "print(type(a))"
   ]
  },
  {
   "cell_type": "code",
   "execution_count": 3,
   "id": "c37149e9",
   "metadata": {
    "execution": {
     "iopub.execute_input": "2023-09-06T05:22:10.507005Z",
     "iopub.status.busy": "2023-09-06T05:22:10.506611Z",
     "iopub.status.idle": "2023-09-06T05:22:10.512771Z",
     "shell.execute_reply": "2023-09-06T05:22:10.511502Z"
    },
    "papermill": {
     "duration": 0.014232,
     "end_time": "2023-09-06T05:22:10.514678",
     "exception": false,
     "start_time": "2023-09-06T05:22:10.500446",
     "status": "completed"
    },
    "tags": []
   },
   "outputs": [
    {
     "name": "stdout",
     "output_type": "stream",
     "text": [
      "[ 1  2 40  3  4]\n"
     ]
    }
   ],
   "source": [
    "b=np.insert(a,2,40)\n",
    "print(b)"
   ]
  },
  {
   "cell_type": "code",
   "execution_count": 4,
   "id": "b8b97627",
   "metadata": {
    "execution": {
     "iopub.execute_input": "2023-09-06T05:22:10.526429Z",
     "iopub.status.busy": "2023-09-06T05:22:10.526036Z",
     "iopub.status.idle": "2023-09-06T05:22:10.531829Z",
     "shell.execute_reply": "2023-09-06T05:22:10.530585Z"
    },
    "papermill": {
     "duration": 0.014231,
     "end_time": "2023-09-06T05:22:10.534008",
     "exception": false,
     "start_time": "2023-09-06T05:22:10.519777",
     "status": "completed"
    },
    "tags": []
   },
   "outputs": [
    {
     "name": "stdout",
     "output_type": "stream",
     "text": [
      "[1 2 4 3 4]\n"
     ]
    }
   ],
   "source": [
    "c=np.insert(a,2,4.4530)\n",
    "print(c)"
   ]
  },
  {
   "cell_type": "code",
   "execution_count": 5,
   "id": "c742e4c3",
   "metadata": {
    "execution": {
     "iopub.execute_input": "2023-09-06T05:22:10.546525Z",
     "iopub.status.busy": "2023-09-06T05:22:10.546120Z",
     "iopub.status.idle": "2023-09-06T05:22:10.551601Z",
     "shell.execute_reply": "2023-09-06T05:22:10.550770Z"
    },
    "papermill": {
     "duration": 0.014592,
     "end_time": "2023-09-06T05:22:10.553870",
     "exception": false,
     "start_time": "2023-09-06T05:22:10.539278",
     "status": "completed"
    },
    "tags": []
   },
   "outputs": [
    {
     "name": "stdout",
     "output_type": "stream",
     "text": [
      "[[1 2]\n",
      " [3 4]]\n"
     ]
    }
   ],
   "source": [
    "d=np.array([[1,2],[3,4]])\n",
    "print(d)"
   ]
  },
  {
   "cell_type": "code",
   "execution_count": 6,
   "id": "55fef342",
   "metadata": {
    "execution": {
     "iopub.execute_input": "2023-09-06T05:22:10.566267Z",
     "iopub.status.busy": "2023-09-06T05:22:10.565881Z",
     "iopub.status.idle": "2023-09-06T05:22:10.572023Z",
     "shell.execute_reply": "2023-09-06T05:22:10.570297Z"
    },
    "papermill": {
     "duration": 0.014973,
     "end_time": "2023-09-06T05:22:10.574225",
     "exception": false,
     "start_time": "2023-09-06T05:22:10.559252",
     "status": "completed"
    },
    "tags": []
   },
   "outputs": [
    {
     "name": "stdout",
     "output_type": "stream",
     "text": [
      "[[1 2]\n",
      " [3 4]\n",
      " [4 4]]\n"
     ]
    }
   ],
   "source": [
    "e=np.insert(d,2,4,axis=0)\n",
    "print(e)"
   ]
  },
  {
   "cell_type": "code",
   "execution_count": 7,
   "id": "2d7be10c",
   "metadata": {
    "execution": {
     "iopub.execute_input": "2023-09-06T05:22:10.587404Z",
     "iopub.status.busy": "2023-09-06T05:22:10.586711Z",
     "iopub.status.idle": "2023-09-06T05:22:10.593643Z",
     "shell.execute_reply": "2023-09-06T05:22:10.592132Z"
    },
    "papermill": {
     "duration": 0.016131,
     "end_time": "2023-09-06T05:22:10.596044",
     "exception": false,
     "start_time": "2023-09-06T05:22:10.579913",
     "status": "completed"
    },
    "tags": []
   },
   "outputs": [
    {
     "name": "stdout",
     "output_type": "stream",
     "text": [
      "[[1 2 4]\n",
      " [3 4 4]]\n"
     ]
    }
   ],
   "source": [
    "f=np.insert(d,2,4,axis=1)\n",
    "print(f)"
   ]
  },
  {
   "cell_type": "code",
   "execution_count": 8,
   "id": "f22fb640",
   "metadata": {
    "execution": {
     "iopub.execute_input": "2023-09-06T05:22:10.609341Z",
     "iopub.status.busy": "2023-09-06T05:22:10.608957Z",
     "iopub.status.idle": "2023-09-06T05:22:10.614977Z",
     "shell.execute_reply": "2023-09-06T05:22:10.613781Z"
    },
    "papermill": {
     "duration": 0.015869,
     "end_time": "2023-09-06T05:22:10.617784",
     "exception": false,
     "start_time": "2023-09-06T05:22:10.601915",
     "status": "completed"
    },
    "tags": []
   },
   "outputs": [
    {
     "name": "stdout",
     "output_type": "stream",
     "text": [
      "[[ 1  2]\n",
      " [ 3  4]\n",
      " [22 23]]\n"
     ]
    }
   ],
   "source": [
    "g=np.insert(d,2,[22,23],axis=0)\n",
    "print(g)"
   ]
  },
  {
   "cell_type": "code",
   "execution_count": 9,
   "id": "9f67a401",
   "metadata": {
    "execution": {
     "iopub.execute_input": "2023-09-06T05:22:10.630513Z",
     "iopub.status.busy": "2023-09-06T05:22:10.630149Z",
     "iopub.status.idle": "2023-09-06T05:22:10.636264Z",
     "shell.execute_reply": "2023-09-06T05:22:10.635066Z"
    },
    "papermill": {
     "duration": 0.015215,
     "end_time": "2023-09-06T05:22:10.638619",
     "exception": false,
     "start_time": "2023-09-06T05:22:10.623404",
     "status": "completed"
    },
    "tags": []
   },
   "outputs": [
    {
     "name": "stdout",
     "output_type": "stream",
     "text": [
      "[[ 1  2 22]\n",
      " [ 3  4 23]]\n"
     ]
    }
   ],
   "source": [
    "h=np.insert(d,2,[22,23],axis=1)\n",
    "print(h)"
   ]
  },
  {
   "cell_type": "markdown",
   "id": "1ba9ea71",
   "metadata": {
    "papermill": {
     "duration": 0.005225,
     "end_time": "2023-09-06T05:22:10.649657",
     "exception": false,
     "start_time": "2023-09-06T05:22:10.644432",
     "status": "completed"
    },
    "tags": []
   },
   "source": [
    "# Delete"
   ]
  },
  {
   "cell_type": "code",
   "execution_count": 10,
   "id": "c4415e1a",
   "metadata": {
    "execution": {
     "iopub.execute_input": "2023-09-06T05:22:10.662552Z",
     "iopub.status.busy": "2023-09-06T05:22:10.662104Z",
     "iopub.status.idle": "2023-09-06T05:22:10.667709Z",
     "shell.execute_reply": "2023-09-06T05:22:10.666554Z"
    },
    "papermill": {
     "duration": 0.01465,
     "end_time": "2023-09-06T05:22:10.669871",
     "exception": false,
     "start_time": "2023-09-06T05:22:10.655221",
     "status": "completed"
    },
    "tags": []
   },
   "outputs": [
    {
     "name": "stdout",
     "output_type": "stream",
     "text": [
      "[2 4 5 7]\n"
     ]
    }
   ],
   "source": [
    "h=np.array([2,4,5,7])\n",
    "print(h)"
   ]
  },
  {
   "cell_type": "code",
   "execution_count": 11,
   "id": "72493f24",
   "metadata": {
    "execution": {
     "iopub.execute_input": "2023-09-06T05:22:10.683504Z",
     "iopub.status.busy": "2023-09-06T05:22:10.682697Z",
     "iopub.status.idle": "2023-09-06T05:22:10.688804Z",
     "shell.execute_reply": "2023-09-06T05:22:10.687612Z"
    },
    "papermill": {
     "duration": 0.015584,
     "end_time": "2023-09-06T05:22:10.691343",
     "exception": false,
     "start_time": "2023-09-06T05:22:10.675759",
     "status": "completed"
    },
    "tags": []
   },
   "outputs": [
    {
     "name": "stdout",
     "output_type": "stream",
     "text": [
      "[2 4 7]\n"
     ]
    }
   ],
   "source": [
    "i=np.delete(h,2)\n",
    "print(i)"
   ]
  }
 ],
 "kernelspec": {
  "display_name": "Python 3",
  "language": "python",
  "name": "python3"
 },
 "language_info": {
  "codemirror_mode": {
   "name": "ipython",
   "version": 3
  },
  "file_extension": ".py",
  "mimetype": "text/x-python",
  "name": "python",
  "nbconvert_exporter": "python",
  "pygments_lexer": "ipython3",
  "version": "3.6.4"
 },
 "metadata": {
  "kernelspec": {
   "display_name": "Python 3",
   "language": "python",
   "name": "python3"
  },
  "language_info": {
   "codemirror_mode": {
    "name": "ipython",
    "version": 3
   },
   "file_extension": ".py",
   "mimetype": "text/x-python",
   "name": "python",
   "nbconvert_exporter": "python",
   "pygments_lexer": "ipython3",
   "version": "3.10.12"
  },
  "papermill": {
   "default_parameters": {},
   "duration": 4.883574,
   "end_time": "2023-09-06T05:22:11.117523",
   "environment_variables": {},
   "exception": null,
   "input_path": "__notebook__.ipynb",
   "output_path": "__notebook__.ipynb",
   "parameters": {},
   "start_time": "2023-09-06T05:22:06.233949",
   "version": "2.4.0"
  }
 },
 "nbformat": 4,
 "nbformat_minor": 5
}
