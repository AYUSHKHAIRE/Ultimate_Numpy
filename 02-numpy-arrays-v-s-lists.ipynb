{
 "cells": [
  {
   "cell_type": "code",
   "execution_count": 1,
   "id": "4f316aac",
   "metadata": {
    "_cell_guid": "b1076dfc-b9ad-4769-8c92-a6c4dae69d19",
    "_uuid": "8f2839f25d086af736a60e9eeb907d3b93b6e0e5",
    "execution": {
     "iopub.execute_input": "2023-09-02T05:46:02.168933Z",
     "iopub.status.busy": "2023-09-02T05:46:02.168047Z",
     "iopub.status.idle": "2023-09-02T05:46:02.174608Z",
     "shell.execute_reply": "2023-09-02T05:46:02.173110Z"
    },
    "papermill": {
     "duration": 0.016924,
     "end_time": "2023-09-02T05:46:02.177597",
     "exception": false,
     "start_time": "2023-09-02T05:46:02.160673",
     "status": "completed"
    },
    "tags": []
   },
   "outputs": [],
   "source": [
    "# basics\n",
    "# data storage difference \n",
    "\n",
    "# list : no need to install package \n",
    "# array : need to install package\n",
    "\n",
    "# lists numerical operations are too slow then array \n",
    "# lists modifications are fast and wide\n",
    "# list consume large memory\n",
    "\n",
    "# %timeit that line time\n",
    "# %%timeit for whole program time"
   ]
  },
  {
   "cell_type": "code",
   "execution_count": 2,
   "id": "c9fa3c10",
   "metadata": {
    "execution": {
     "iopub.execute_input": "2023-09-02T05:46:02.187608Z",
     "iopub.status.busy": "2023-09-02T05:46:02.187128Z",
     "iopub.status.idle": "2023-09-02T05:46:08.393197Z",
     "shell.execute_reply": "2023-09-02T05:46:08.391865Z"
    },
    "papermill": {
     "duration": 6.214061,
     "end_time": "2023-09-02T05:46:08.395979",
     "exception": false,
     "start_time": "2023-09-02T05:46:02.181918",
     "status": "completed"
    },
    "tags": []
   },
   "outputs": [
    {
     "name": "stdout",
     "output_type": "stream",
     "text": [
      "3.12 µs ± 10.9 ns per loop (mean ± std. dev. of 7 runs, 100,000 loops each)\n",
      "4.51 µs ± 241 ns per loop (mean ± std. dev. of 7 runs, 100,000 loops each)\n"
     ]
    }
   ],
   "source": [
    "# list\n",
    "%timeit [j**4 for j in range (1,9)]\n",
    "\n",
    "# numpy array\n",
    "import numpy as np\n",
    "%timeit np.arange(1,9)**4\n",
    "\n",
    "# computing speed comparision"
   ]
  }
 ],
 "kernelspec": {
  "display_name": "Python 3",
  "language": "python",
  "name": "python3"
 },
 "language_info": {
  "codemirror_mode": {
   "name": "ipython",
   "version": 3
  },
  "file_extension": ".py",
  "mimetype": "text/x-python",
  "name": "python",
  "nbconvert_exporter": "python",
  "pygments_lexer": "ipython3",
  "version": "3.6.4"
 },
 "metadata": {
  "kernelspec": {
   "display_name": "Python 3",
   "language": "python",
   "name": "python3"
  },
  "language_info": {
   "codemirror_mode": {
    "name": "ipython",
    "version": 3
   },
   "file_extension": ".py",
   "mimetype": "text/x-python",
   "name": "python",
   "nbconvert_exporter": "python",
   "pygments_lexer": "ipython3",
   "version": "3.10.12"
  },
  "papermill": {
   "default_parameters": {},
   "duration": 10.858949,
   "end_time": "2023-09-02T05:46:08.923037",
   "environment_variables": {},
   "exception": null,
   "input_path": "__notebook__.ipynb",
   "output_path": "__notebook__.ipynb",
   "parameters": {},
   "start_time": "2023-09-02T05:45:58.064088",
   "version": "2.4.0"
  }
 },
 "nbformat": 4,
 "nbformat_minor": 5
}
