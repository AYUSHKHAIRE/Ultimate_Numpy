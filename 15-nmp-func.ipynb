{
 "cells": [
  {
   "cell_type": "code",
   "execution_count": 1,
   "id": "c1e2ce11",
   "metadata": {
    "_cell_guid": "b1076dfc-b9ad-4769-8c92-a6c4dae69d19",
    "_uuid": "8f2839f25d086af736a60e9eeb907d3b93b6e0e5",
    "execution": {
     "iopub.execute_input": "2023-09-04T16:58:43.506622Z",
     "iopub.status.busy": "2023-09-04T16:58:43.506162Z",
     "iopub.status.idle": "2023-09-04T16:58:43.518865Z",
     "shell.execute_reply": "2023-09-04T16:58:43.517965Z"
    },
    "papermill": {
     "duration": 0.024146,
     "end_time": "2023-09-04T16:58:43.521301",
     "exception": false,
     "start_time": "2023-09-04T16:58:43.497155",
     "status": "completed"
    },
    "tags": []
   },
   "outputs": [],
   "source": [
    "import numpy as np"
   ]
  },
  {
   "cell_type": "markdown",
   "id": "887e8803",
   "metadata": {
    "papermill": {
     "duration": 0.006131,
     "end_time": "2023-09-04T16:58:43.534566",
     "exception": false,
     "start_time": "2023-09-04T16:58:43.528435",
     "status": "completed"
    },
    "tags": []
   },
   "source": [
    "# functions in numpy"
   ]
  },
  {
   "cell_type": "markdown",
   "id": "4256ca85",
   "metadata": {
    "papermill": {
     "duration": 0.006203,
     "end_time": "2023-09-04T16:58:43.547195",
     "exception": false,
     "start_time": "2023-09-04T16:58:43.540992",
     "status": "completed"
    },
    "tags": []
   },
   "source": [
    "* search"
   ]
  },
  {
   "cell_type": "code",
   "execution_count": 2,
   "id": "86d3c3e0",
   "metadata": {
    "execution": {
     "iopub.execute_input": "2023-09-04T16:58:43.562908Z",
     "iopub.status.busy": "2023-09-04T16:58:43.561974Z",
     "iopub.status.idle": "2023-09-04T16:58:43.572558Z",
     "shell.execute_reply": "2023-09-04T16:58:43.571458Z"
    },
    "papermill": {
     "duration": 0.02164,
     "end_time": "2023-09-04T16:58:43.575421",
     "exception": false,
     "start_time": "2023-09-04T16:58:43.553781",
     "status": "completed"
    },
    "tags": []
   },
   "outputs": [
    {
     "name": "stdout",
     "output_type": "stream",
     "text": [
      "[6 5 4 7 6 5 4 6]\n",
      "(array([1, 5]),)\n",
      "(array([0, 2, 4, 6, 7]),)\n"
     ]
    }
   ],
   "source": [
    "a=np.array([6,5,4,7,6,5,4,6])\n",
    "print(a)\n",
    "search=np.where(a == 5)\n",
    "print(search)\n",
    "chk=np.where(a%2==0)\n",
    "print(chk)"
   ]
  },
  {
   "cell_type": "code",
   "execution_count": 3,
   "id": "33f6a28b",
   "metadata": {
    "execution": {
     "iopub.execute_input": "2023-09-04T16:58:43.590065Z",
     "iopub.status.busy": "2023-09-04T16:58:43.589689Z",
     "iopub.status.idle": "2023-09-04T16:58:43.595865Z",
     "shell.execute_reply": "2023-09-04T16:58:43.594765Z"
    },
    "papermill": {
     "duration": 0.017037,
     "end_time": "2023-09-04T16:58:43.598973",
     "exception": false,
     "start_time": "2023-09-04T16:58:43.581936",
     "status": "completed"
    },
    "tags": []
   },
   "outputs": [
    {
     "name": "stdout",
     "output_type": "stream",
     "text": [
      "[1 2 3 4 5 6 7]\n",
      "(array([4]),)\n"
     ]
    }
   ],
   "source": [
    "xa=np.array([1,2,3,4,5,6,7])\n",
    "print(xa)\n",
    "search=np.where(xa == 5)\n",
    "print(search)\n",
    "# by binary search method"
   ]
  },
  {
   "cell_type": "markdown",
   "id": "82529a6e",
   "metadata": {
    "papermill": {
     "duration": 0.006322,
     "end_time": "2023-09-04T16:58:43.612153",
     "exception": false,
     "start_time": "2023-09-04T16:58:43.605831",
     "status": "completed"
    },
    "tags": []
   },
   "source": [
    "* search sorted array : binary search array"
   ]
  },
  {
   "cell_type": "markdown",
   "id": "febd6007",
   "metadata": {
    "papermill": {
     "duration": 0.00655,
     "end_time": "2023-09-04T16:58:43.625231",
     "exception": false,
     "start_time": "2023-09-04T16:58:43.618681",
     "status": "completed"
    },
    "tags": []
   },
   "source": [
    "* Sorting"
   ]
  },
  {
   "cell_type": "code",
   "execution_count": 4,
   "id": "159b9adc",
   "metadata": {
    "execution": {
     "iopub.execute_input": "2023-09-04T16:58:43.641483Z",
     "iopub.status.busy": "2023-09-04T16:58:43.640314Z",
     "iopub.status.idle": "2023-09-04T16:58:43.648347Z",
     "shell.execute_reply": "2023-09-04T16:58:43.647276Z"
    },
    "papermill": {
     "duration": 0.01834,
     "end_time": "2023-09-04T16:58:43.650698",
     "exception": false,
     "start_time": "2023-09-04T16:58:43.632358",
     "status": "completed"
    },
    "tags": []
   },
   "outputs": [
    {
     "name": "stdout",
     "output_type": "stream",
     "text": [
      "[6 5 4 7 6 5 4 6]\n",
      "[4 4 5 5 6 6 6 7]\n"
     ]
    }
   ],
   "source": [
    "# a is an unsorted array\n",
    "a=np.array([6,5,4,7,6,5,4,6])\n",
    "print(a)\n",
    "a1=np.sort(a)\n",
    "print(a1)"
   ]
  },
  {
   "cell_type": "code",
   "execution_count": 5,
   "id": "0eec0954",
   "metadata": {
    "execution": {
     "iopub.execute_input": "2023-09-04T16:58:43.665725Z",
     "iopub.status.busy": "2023-09-04T16:58:43.665306Z",
     "iopub.status.idle": "2023-09-04T16:58:43.672131Z",
     "shell.execute_reply": "2023-09-04T16:58:43.670862Z"
    },
    "papermill": {
     "duration": 0.017471,
     "end_time": "2023-09-04T16:58:43.674837",
     "exception": false,
     "start_time": "2023-09-04T16:58:43.657366",
     "status": "completed"
    },
    "tags": []
   },
   "outputs": [
    {
     "name": "stdout",
     "output_type": "stream",
     "text": [
      "[[2 4 3]\n",
      " [5 4 6]\n",
      " [8 7 8]]\n",
      "[[2 3 4]\n",
      " [4 5 6]\n",
      " [7 8 8]]\n"
     ]
    }
   ],
   "source": [
    "b=np.array([[2,4,3],[5,4,6],[8,7,8]])\n",
    "print(b)\n",
    "a1=np.sort(b)\n",
    "print(a1)"
   ]
  },
  {
   "cell_type": "code",
   "execution_count": 6,
   "id": "ff82137c",
   "metadata": {
    "execution": {
     "iopub.execute_input": "2023-09-04T16:58:43.690858Z",
     "iopub.status.busy": "2023-09-04T16:58:43.690478Z",
     "iopub.status.idle": "2023-09-04T16:58:43.696577Z",
     "shell.execute_reply": "2023-09-04T16:58:43.695423Z"
    },
    "papermill": {
     "duration": 0.017541,
     "end_time": "2023-09-04T16:58:43.699413",
     "exception": false,
     "start_time": "2023-09-04T16:58:43.681872",
     "status": "completed"
    },
    "tags": []
   },
   "outputs": [
    {
     "name": "stdout",
     "output_type": "stream",
     "text": [
      "['a' 's' 'd' 'g']\n",
      "['a' 'd' 'g' 's']\n"
     ]
    }
   ],
   "source": [
    "c=np.array(['a','s','d','g'])\n",
    "print(c)\n",
    "a1=np.sort(c)\n",
    "print(a1)"
   ]
  },
  {
   "cell_type": "markdown",
   "id": "222bd1df",
   "metadata": {
    "papermill": {
     "duration": 0.006788,
     "end_time": "2023-09-04T16:58:43.713274",
     "exception": false,
     "start_time": "2023-09-04T16:58:43.706486",
     "status": "completed"
    },
    "tags": []
   },
   "source": [
    "for different sorting algorithms in c :\n",
    "https://github.com/AYUSHKHAIRE/data-structures-in-c/blob/main/data%20structres%20in%20C/data_structures.c"
   ]
  },
  {
   "cell_type": "markdown",
   "id": "e0788742",
   "metadata": {
    "papermill": {
     "duration": 0.006673,
     "end_time": "2023-09-04T16:58:43.727137",
     "exception": false,
     "start_time": "2023-09-04T16:58:43.720464",
     "status": "completed"
    },
    "tags": []
   },
   "source": [
    "* Filter"
   ]
  },
  {
   "cell_type": "code",
   "execution_count": 7,
   "id": "e7d7cf6e",
   "metadata": {
    "execution": {
     "iopub.execute_input": "2023-09-04T16:58:43.743162Z",
     "iopub.status.busy": "2023-09-04T16:58:43.742737Z",
     "iopub.status.idle": "2023-09-04T16:58:43.748843Z",
     "shell.execute_reply": "2023-09-04T16:58:43.747670Z"
    },
    "papermill": {
     "duration": 0.017912,
     "end_time": "2023-09-04T16:58:43.751983",
     "exception": false,
     "start_time": "2023-09-04T16:58:43.734071",
     "status": "completed"
    },
    "tags": []
   },
   "outputs": [
    {
     "name": "stdout",
     "output_type": "stream",
     "text": [
      "['a']\n"
     ]
    }
   ],
   "source": [
    "c1=np.array(['a','s','d','g'])\n",
    "f=[True,False,False,False]\n",
    "nw_arr=c1[f]\n",
    "print(nw_arr)"
   ]
  }
 ],
 "kernelspec": {
  "display_name": "Python 3",
  "language": "python",
  "name": "python3"
 },
 "language_info": {
  "codemirror_mode": {
   "name": "ipython",
   "version": 3
  },
  "file_extension": ".py",
  "mimetype": "text/x-python",
  "name": "python",
  "nbconvert_exporter": "python",
  "pygments_lexer": "ipython3",
  "version": "3.6.4"
 },
 "metadata": {
  "kernelspec": {
   "display_name": "Python 3",
   "language": "python",
   "name": "python3"
  },
  "language_info": {
   "codemirror_mode": {
    "name": "ipython",
    "version": 3
   },
   "file_extension": ".py",
   "mimetype": "text/x-python",
   "name": "python",
   "nbconvert_exporter": "python",
   "pygments_lexer": "ipython3",
   "version": "3.10.12"
  },
  "papermill": {
   "default_parameters": {},
   "duration": 4.386397,
   "end_time": "2023-09-04T16:58:44.180280",
   "environment_variables": {},
   "exception": null,
   "input_path": "__notebook__.ipynb",
   "output_path": "__notebook__.ipynb",
   "parameters": {},
   "start_time": "2023-09-04T16:58:39.793883",
   "version": "2.4.0"
  }
 },
 "nbformat": 4,
 "nbformat_minor": 5
}
