{
 "cells": [
  {
   "cell_type": "markdown",
   "id": "a53482a9",
   "metadata": {
    "papermill": {
     "duration": 0.00525,
     "end_time": "2023-09-03T05:55:33.049248",
     "exception": false,
     "start_time": "2023-09-03T05:55:33.043998",
     "status": "completed"
    },
    "tags": []
   },
   "source": [
    "for more\n",
    "https://numpy.org/doc/stable/user/basics.types.html"
   ]
  },
  {
   "cell_type": "markdown",
   "id": "77dbb38f",
   "metadata": {
    "papermill": {
     "duration": 0.00379,
     "end_time": "2023-09-03T05:55:33.057902",
     "exception": false,
     "start_time": "2023-09-03T05:55:33.054112",
     "status": "completed"
    },
    "tags": []
   },
   "source": [
    "# Numpy datatypes"
   ]
  },
  {
   "cell_type": "code",
   "execution_count": 1,
   "id": "a7e60ea1",
   "metadata": {
    "execution": {
     "iopub.execute_input": "2023-09-03T05:55:33.069656Z",
     "iopub.status.busy": "2023-09-03T05:55:33.068741Z",
     "iopub.status.idle": "2023-09-03T05:55:33.079108Z",
     "shell.execute_reply": "2023-09-03T05:55:33.076994Z"
    },
    "papermill": {
     "duration": 0.018153,
     "end_time": "2023-09-03T05:55:33.081053",
     "exception": false,
     "start_time": "2023-09-03T05:55:33.062900",
     "status": "completed"
    },
    "tags": []
   },
   "outputs": [],
   "source": [
    "import numpy as np"
   ]
  },
  {
   "cell_type": "code",
   "execution_count": 2,
   "id": "d081c6ba",
   "metadata": {
    "execution": {
     "iopub.execute_input": "2023-09-03T05:55:33.091534Z",
     "iopub.status.busy": "2023-09-03T05:55:33.090894Z",
     "iopub.status.idle": "2023-09-03T05:55:33.095879Z",
     "shell.execute_reply": "2023-09-03T05:55:33.094833Z"
    },
    "papermill": {
     "duration": 0.012189,
     "end_time": "2023-09-03T05:55:33.097672",
     "exception": false,
     "start_time": "2023-09-03T05:55:33.085483",
     "status": "completed"
    },
    "tags": []
   },
   "outputs": [
    {
     "name": "stdout",
     "output_type": "stream",
     "text": [
      "Data type :  int64\n"
     ]
    }
   ],
   "source": [
    "var=np.array([123,234,322,3,4])\n",
    "print('Data type : ',var.dtype)"
   ]
  },
  {
   "cell_type": "code",
   "execution_count": 3,
   "id": "84ddb1a3",
   "metadata": {
    "execution": {
     "iopub.execute_input": "2023-09-03T05:55:33.107633Z",
     "iopub.status.busy": "2023-09-03T05:55:33.107091Z",
     "iopub.status.idle": "2023-09-03T05:55:33.112074Z",
     "shell.execute_reply": "2023-09-03T05:55:33.110831Z"
    },
    "papermill": {
     "duration": 0.012838,
     "end_time": "2023-09-03T05:55:33.114664",
     "exception": false,
     "start_time": "2023-09-03T05:55:33.101826",
     "status": "completed"
    },
    "tags": []
   },
   "outputs": [
    {
     "name": "stdout",
     "output_type": "stream",
     "text": [
      "Data type :  float64\n"
     ]
    }
   ],
   "source": [
    "var1=np.array([1.2,2.3,4.5])\n",
    "print('Data type : ',var1.dtype)"
   ]
  },
  {
   "cell_type": "code",
   "execution_count": 4,
   "id": "0f8ee2fc",
   "metadata": {
    "execution": {
     "iopub.execute_input": "2023-09-03T05:55:33.125449Z",
     "iopub.status.busy": "2023-09-03T05:55:33.125036Z",
     "iopub.status.idle": "2023-09-03T05:55:33.132276Z",
     "shell.execute_reply": "2023-09-03T05:55:33.131305Z"
    },
    "papermill": {
     "duration": 0.014855,
     "end_time": "2023-09-03T05:55:33.134300",
     "exception": false,
     "start_time": "2023-09-03T05:55:33.119445",
     "status": "completed"
    },
    "tags": []
   },
   "outputs": [
    {
     "name": "stdout",
     "output_type": "stream",
     "text": [
      "Data type :  float64\n",
      "[1.2 2.3 4.5 2.  3.  4.  5. ]\n"
     ]
    }
   ],
   "source": [
    "var2=np.array([1.2,2.3,4.5,2,3,4,5])\n",
    "print('Data type : ',var2.dtype)\n",
    "print(var2)"
   ]
  },
  {
   "cell_type": "code",
   "execution_count": 5,
   "id": "8d1e8013",
   "metadata": {
    "execution": {
     "iopub.execute_input": "2023-09-03T05:55:33.144514Z",
     "iopub.status.busy": "2023-09-03T05:55:33.144154Z",
     "iopub.status.idle": "2023-09-03T05:55:33.150595Z",
     "shell.execute_reply": "2023-09-03T05:55:33.149296Z"
    },
    "papermill": {
     "duration": 0.013573,
     "end_time": "2023-09-03T05:55:33.152308",
     "exception": false,
     "start_time": "2023-09-03T05:55:33.138735",
     "status": "completed"
    },
    "tags": []
   },
   "outputs": [
    {
     "name": "stdout",
     "output_type": "stream",
     "text": [
      "Data type :  <U32\n"
     ]
    }
   ],
   "source": [
    "var3=np.array([1.2,2.3,4.5,'s','d','f','g'])\n",
    "print('Data type : ',var3.dtype)"
   ]
  },
  {
   "cell_type": "markdown",
   "id": "0dc8a6f9",
   "metadata": {
    "papermill": {
     "duration": 0.004213,
     "end_time": "2023-09-03T05:55:33.161124",
     "exception": false,
     "start_time": "2023-09-03T05:55:33.156911",
     "status": "completed"
    },
    "tags": []
   },
   "source": [
    "* typecasting"
   ]
  },
  {
   "cell_type": "code",
   "execution_count": 6,
   "id": "40d69fb2",
   "metadata": {
    "execution": {
     "iopub.execute_input": "2023-09-03T05:55:33.172678Z",
     "iopub.status.busy": "2023-09-03T05:55:33.172315Z",
     "iopub.status.idle": "2023-09-03T05:55:33.179894Z",
     "shell.execute_reply": "2023-09-03T05:55:33.178432Z"
    },
    "papermill": {
     "duration": 0.016359,
     "end_time": "2023-09-03T05:55:33.181598",
     "exception": false,
     "start_time": "2023-09-03T05:55:33.165239",
     "status": "completed"
    },
    "tags": []
   },
   "outputs": [
    {
     "name": "stdout",
     "output_type": "stream",
     "text": [
      "data type of x :  int64\n",
      "[1 2 3 4 5]\n",
      "data type of x1 :  int8\n",
      "[1 2 3 4 5]\n"
     ]
    }
   ],
   "source": [
    "x=np.array([1,2,3,4,5])\n",
    "print('data type of x : ',x.dtype)\n",
    "print(x)\n",
    "x1=np.array([1,2,3,4,5],dtype=np.int8)\n",
    "print('data type of x1 : ',x1.dtype)\n",
    "print(x1)"
   ]
  },
  {
   "cell_type": "code",
   "execution_count": 7,
   "id": "47d88153",
   "metadata": {
    "execution": {
     "iopub.execute_input": "2023-09-03T05:55:33.192090Z",
     "iopub.status.busy": "2023-09-03T05:55:33.191749Z",
     "iopub.status.idle": "2023-09-03T05:55:33.198775Z",
     "shell.execute_reply": "2023-09-03T05:55:33.197786Z"
    },
    "papermill": {
     "duration": 0.015269,
     "end_time": "2023-09-03T05:55:33.201288",
     "exception": false,
     "start_time": "2023-09-03T05:55:33.186019",
     "status": "completed"
    },
    "tags": []
   },
   "outputs": [
    {
     "name": "stdout",
     "output_type": "stream",
     "text": [
      "data type of x :  int64\n",
      "[1 2 3 4 5]\n",
      "data type of x1 :  float32\n",
      "[1. 2. 3. 4. 5.]\n"
     ]
    }
   ],
   "source": [
    "x=np.array([1,2,3,4,5])\n",
    "print('data type of x : ',x.dtype)\n",
    "print(x)\n",
    "x1=np.array([1,2,3,4,5],dtype=\"f\")\n",
    "print('data type of x1 : ',x1.dtype)\n",
    "print(x1)"
   ]
  },
  {
   "cell_type": "code",
   "execution_count": 8,
   "id": "5998da15",
   "metadata": {
    "execution": {
     "iopub.execute_input": "2023-09-03T05:55:33.213361Z",
     "iopub.status.busy": "2023-09-03T05:55:33.213000Z",
     "iopub.status.idle": "2023-09-03T05:55:33.220227Z",
     "shell.execute_reply": "2023-09-03T05:55:33.219003Z"
    },
    "papermill": {
     "duration": 0.016126,
     "end_time": "2023-09-03T05:55:33.222212",
     "exception": false,
     "start_time": "2023-09-03T05:55:33.206086",
     "status": "completed"
    },
    "tags": []
   },
   "outputs": [
    {
     "name": "stdout",
     "output_type": "stream",
     "text": [
      "[1 2 3 4 5]\n",
      "data type of x :  int64\n",
      "data type of x :  float32\n",
      "data type of x :  int64\n"
     ]
    }
   ],
   "source": [
    "x=np.array([1,2,3,4,5])\n",
    "# passing as a function\n",
    "new = np.float32(x)\n",
    "# converting back again\n",
    "new_1 = np.int_(new)\n",
    "print(x)\n",
    "print('data type of x : ',x.dtype)\n",
    "print('data type of x : ',new.dtype)\n",
    "print('data type of x : ',new_1.dtype)"
   ]
  },
  {
   "cell_type": "code",
   "execution_count": 9,
   "id": "ac65dffe",
   "metadata": {
    "execution": {
     "iopub.execute_input": "2023-09-03T05:55:33.233464Z",
     "iopub.status.busy": "2023-09-03T05:55:33.232863Z",
     "iopub.status.idle": "2023-09-03T05:55:33.239685Z",
     "shell.execute_reply": "2023-09-03T05:55:33.237740Z"
    },
    "papermill": {
     "duration": 0.01464,
     "end_time": "2023-09-03T05:55:33.241536",
     "exception": false,
     "start_time": "2023-09-03T05:55:33.226896",
     "status": "completed"
    },
    "tags": []
   },
   "outputs": [
    {
     "name": "stdout",
     "output_type": "stream",
     "text": [
      "[1 2 3 4 5]\n",
      "[1 2 3 4 5]\n"
     ]
    }
   ],
   "source": [
    "x3=np.array([1,2,3,4,5])\n",
    "new_2=x3.astype(float)\n",
    "print(x3)\n",
    "print(new_1)"
   ]
  }
 ],
 "kernelspec": {
  "display_name": "Python 3",
  "language": "python",
  "name": "python3"
 },
 "language_info": {
  "codemirror_mode": {
   "name": "ipython",
   "version": 3
  },
  "file_extension": ".py",
  "mimetype": "text/x-python",
  "name": "python",
  "nbconvert_exporter": "python",
  "pygments_lexer": "ipython3",
  "version": "3.6.4"
 },
 "metadata": {
  "kernelspec": {
   "display_name": "Python 3",
   "language": "python",
   "name": "python3"
  },
  "language_info": {
   "codemirror_mode": {
    "name": "ipython",
    "version": 3
   },
   "file_extension": ".py",
   "mimetype": "text/x-python",
   "name": "python",
   "nbconvert_exporter": "python",
   "pygments_lexer": "ipython3",
   "version": "3.10.12"
  },
  "papermill": {
   "default_parameters": {},
   "duration": 4.732355,
   "end_time": "2023-09-03T05:55:33.668113",
   "environment_variables": {},
   "exception": null,
   "input_path": "__notebook__.ipynb",
   "output_path": "__notebook__.ipynb",
   "parameters": {},
   "start_time": "2023-09-03T05:55:28.935758",
   "version": "2.4.0"
  }
 },
 "nbformat": 4,
 "nbformat_minor": 5
}
