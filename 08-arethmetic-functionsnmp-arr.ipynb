{
 "cells": [
  {
   "cell_type": "code",
   "execution_count": 1,
   "id": "fe53ee99",
   "metadata": {
    "execution": {
     "iopub.execute_input": "2023-09-03T10:22:10.323262Z",
     "iopub.status.busy": "2023-09-03T10:22:10.322525Z",
     "iopub.status.idle": "2023-09-03T10:22:10.335962Z",
     "shell.execute_reply": "2023-09-03T10:22:10.334743Z"
    },
    "papermill": {
     "duration": 0.025245,
     "end_time": "2023-09-03T10:22:10.339107",
     "exception": false,
     "start_time": "2023-09-03T10:22:10.313862",
     "status": "completed"
    },
    "tags": []
   },
   "outputs": [],
   "source": [
    "import numpy as np"
   ]
  },
  {
   "cell_type": "markdown",
   "id": "97f3adb1",
   "metadata": {
    "papermill": {
     "duration": 0.006323,
     "end_time": "2023-09-03T10:22:10.353001",
     "exception": false,
     "start_time": "2023-09-03T10:22:10.346678",
     "status": "completed"
    },
    "tags": []
   },
   "source": [
    "# Some basic functions in Numpy"
   ]
  },
  {
   "cell_type": "markdown",
   "id": "715d183a",
   "metadata": {
    "papermill": {
     "duration": 0.005857,
     "end_time": "2023-09-03T10:22:10.365158",
     "exception": false,
     "start_time": "2023-09-03T10:22:10.359301",
     "status": "completed"
    },
    "tags": []
   },
   "source": [
    "* 1 - D array"
   ]
  },
  {
   "cell_type": "code",
   "execution_count": 2,
   "id": "e90eecf6",
   "metadata": {
    "execution": {
     "iopub.execute_input": "2023-09-03T10:22:10.381120Z",
     "iopub.status.busy": "2023-09-03T10:22:10.379705Z",
     "iopub.status.idle": "2023-09-03T10:22:10.391089Z",
     "shell.execute_reply": "2023-09-03T10:22:10.389929Z"
    },
    "papermill": {
     "duration": 0.022571,
     "end_time": "2023-09-03T10:22:10.394056",
     "exception": false,
     "start_time": "2023-09-03T10:22:10.371485",
     "status": "completed"
    },
    "tags": []
   },
   "outputs": [
    {
     "name": "stdout",
     "output_type": "stream",
     "text": [
      "[1 2 3 4 5]\n",
      "minimum;\n",
      "1\n",
      "maximum :\n",
      "5\n",
      "the position of minimum element :\n",
      "0\n",
      "the position of maximum element :\n",
      "4\n"
     ]
    }
   ],
   "source": [
    "a=np.array([1,2,3,4,5])\n",
    "\n",
    "print(a)\n",
    "\n",
    "print('minimum;')\n",
    "print(np.min(a))\n",
    "print('maximum :')\n",
    "print(np.max(a))\n",
    "\n",
    "print('the position of minimum element :')\n",
    "print(np.argmin(a))\n",
    "print('the position of maximum element :')\n",
    "print(np.argmax(a))"
   ]
  },
  {
   "cell_type": "markdown",
   "id": "f36647d7",
   "metadata": {
    "papermill": {
     "duration": 0.005793,
     "end_time": "2023-09-03T10:22:10.405935",
     "exception": false,
     "start_time": "2023-09-03T10:22:10.400142",
     "status": "completed"
    },
    "tags": []
   },
   "source": [
    "* 2-D array"
   ]
  },
  {
   "cell_type": "code",
   "execution_count": 3,
   "id": "cf302dcb",
   "metadata": {
    "execution": {
     "iopub.execute_input": "2023-09-03T10:22:10.420618Z",
     "iopub.status.busy": "2023-09-03T10:22:10.419833Z",
     "iopub.status.idle": "2023-09-03T10:22:10.427732Z",
     "shell.execute_reply": "2023-09-03T10:22:10.426507Z"
    },
    "papermill": {
     "duration": 0.018694,
     "end_time": "2023-09-03T10:22:10.430841",
     "exception": false,
     "start_time": "2023-09-03T10:22:10.412147",
     "status": "completed"
    },
    "tags": []
   },
   "outputs": [
    {
     "name": "stdout",
     "output_type": "stream",
     "text": [
      "[[1 2 3 4 5]\n",
      " [9 8 7 6 5]]\n",
      "2\n",
      "minimum;\n",
      "[1 5]\n",
      "maximum :\n",
      "[5 9]\n"
     ]
    }
   ],
   "source": [
    "b=np.array([[1,2,3,4,5],[9,8,7,6,5]])\n",
    "print(b)\n",
    "print(b.ndim)\n",
    "\n",
    "print('minimum;')\n",
    "print(np.min(b,1))\n",
    "print('maximum :')\n",
    "print(np.max(b,1))"
   ]
  },
  {
   "cell_type": "markdown",
   "id": "20d2b76d",
   "metadata": {
    "papermill": {
     "duration": 0.006017,
     "end_time": "2023-09-03T10:22:10.443457",
     "exception": false,
     "start_time": "2023-09-03T10:22:10.437440",
     "status": "completed"
    },
    "tags": []
   },
   "source": [
    "* square root"
   ]
  },
  {
   "cell_type": "code",
   "execution_count": 4,
   "id": "3ba7a01b",
   "metadata": {
    "execution": {
     "iopub.execute_input": "2023-09-03T10:22:10.457921Z",
     "iopub.status.busy": "2023-09-03T10:22:10.457520Z",
     "iopub.status.idle": "2023-09-03T10:22:10.464866Z",
     "shell.execute_reply": "2023-09-03T10:22:10.463581Z"
    },
    "papermill": {
     "duration": 0.017461,
     "end_time": "2023-09-03T10:22:10.467322",
     "exception": false,
     "start_time": "2023-09-03T10:22:10.449861",
     "status": "completed"
    },
    "tags": []
   },
   "outputs": [
    {
     "name": "stdout",
     "output_type": "stream",
     "text": [
      "square root :\n",
      "[1.         1.41421356 1.73205081 2.         2.23606798]\n",
      "[[1.         1.41421356 1.73205081 2.         2.23606798]\n",
      " [3.         2.82842712 2.64575131 2.44948974 2.23606798]]\n"
     ]
    }
   ],
   "source": [
    "print('square root :')\n",
    "print(np.sqrt(a))\n",
    "print(np.sqrt(b))"
   ]
  },
  {
   "cell_type": "markdown",
   "id": "ead7d494",
   "metadata": {
    "papermill": {
     "duration": 0.006044,
     "end_time": "2023-09-03T10:22:10.479851",
     "exception": false,
     "start_time": "2023-09-03T10:22:10.473807",
     "status": "completed"
    },
    "tags": []
   },
   "source": [
    "* trignometry"
   ]
  },
  {
   "cell_type": "code",
   "execution_count": 5,
   "id": "0db79bfc",
   "metadata": {
    "execution": {
     "iopub.execute_input": "2023-09-03T10:22:10.496022Z",
     "iopub.status.busy": "2023-09-03T10:22:10.495426Z",
     "iopub.status.idle": "2023-09-03T10:22:10.505537Z",
     "shell.execute_reply": "2023-09-03T10:22:10.504064Z"
    },
    "papermill": {
     "duration": 0.020808,
     "end_time": "2023-09-03T10:22:10.508194",
     "exception": false,
     "start_time": "2023-09-03T10:22:10.487386",
     "status": "completed"
    },
    "tags": []
   },
   "outputs": [
    {
     "name": "stdout",
     "output_type": "stream",
     "text": [
      "[ 0.         -0.98803162  0.85090352 -0.30481062  0.89399666]\n",
      "[ 1.          0.15425145  0.52532199 -0.95241298 -0.44807362]\n",
      "[ 0.         -6.4053312   1.61977519  0.32004039 -1.99520041]\n"
     ]
    }
   ],
   "source": [
    "c=np.array([0,30,45,60,90])\n",
    "print(np.sin(c))\n",
    "print(np.cos(c))\n",
    "print(np.tan(c))"
   ]
  },
  {
   "cell_type": "markdown",
   "id": "2aed1b5a",
   "metadata": {
    "papermill": {
     "duration": 0.006059,
     "end_time": "2023-09-03T10:22:10.520875",
     "exception": false,
     "start_time": "2023-09-03T10:22:10.514816",
     "status": "completed"
    },
    "tags": []
   },
   "source": [
    "* cummelity sum"
   ]
  },
  {
   "cell_type": "code",
   "execution_count": 6,
   "id": "f61c3acd",
   "metadata": {
    "execution": {
     "iopub.execute_input": "2023-09-03T10:22:10.535270Z",
     "iopub.status.busy": "2023-09-03T10:22:10.534855Z",
     "iopub.status.idle": "2023-09-03T10:22:10.542053Z",
     "shell.execute_reply": "2023-09-03T10:22:10.541272Z"
    },
    "papermill": {
     "duration": 0.017111,
     "end_time": "2023-09-03T10:22:10.544272",
     "exception": false,
     "start_time": "2023-09-03T10:22:10.527161",
     "status": "completed"
    },
    "tags": []
   },
   "outputs": [
    {
     "name": "stdout",
     "output_type": "stream",
     "text": [
      "[  0  30  75 135 225]\n"
     ]
    }
   ],
   "source": [
    "print(np.cumsum(c))\n",
    "# let c= [0,30,45,60,90]\n",
    "# so \n",
    "# let element 0 = 0\n",
    "# element 1 = element 1 + element 0\n",
    "# 0+30=30\n",
    "# element 1 = element 2 + element 1\n",
    "# 30+45=75\n",
    "# 75+60=135\n",
    "# 135+90=225"
   ]
  }
 ],
 "kernelspec": {
  "display_name": "Python 3",
  "language": "python",
  "name": "python3"
 },
 "language_info": {
  "codemirror_mode": {
   "name": "ipython",
   "version": 3
  },
  "file_extension": ".py",
  "mimetype": "text/x-python",
  "name": "python",
  "nbconvert_exporter": "python",
  "pygments_lexer": "ipython3",
  "version": "3.6.4"
 },
 "metadata": {
  "kernelspec": {
   "display_name": "Python 3",
   "language": "python",
   "name": "python3"
  },
  "language_info": {
   "codemirror_mode": {
    "name": "ipython",
    "version": 3
   },
   "file_extension": ".py",
   "mimetype": "text/x-python",
   "name": "python",
   "nbconvert_exporter": "python",
   "pygments_lexer": "ipython3",
   "version": "3.10.12"
  },
  "papermill": {
   "default_parameters": {},
   "duration": 4.623858,
   "end_time": "2023-09-03T10:22:10.969849",
   "environment_variables": {},
   "exception": null,
   "input_path": "__notebook__.ipynb",
   "output_path": "__notebook__.ipynb",
   "parameters": {},
   "start_time": "2023-09-03T10:22:06.345991",
   "version": "2.4.0"
  }
 },
 "nbformat": 4,
 "nbformat_minor": 5
}
