{
 "cells": [
  {
   "cell_type": "code",
   "execution_count": 1,
   "id": "6292d5c1",
   "metadata": {
    "_cell_guid": "b1076dfc-b9ad-4769-8c92-a6c4dae69d19",
    "_uuid": "8f2839f25d086af736a60e9eeb907d3b93b6e0e5",
    "execution": {
     "iopub.execute_input": "2023-09-03T07:14:15.131397Z",
     "iopub.status.busy": "2023-09-03T07:14:15.131028Z",
     "iopub.status.idle": "2023-09-03T07:14:15.140757Z",
     "shell.execute_reply": "2023-09-03T07:14:15.139599Z"
    },
    "papermill": {
     "duration": 0.020947,
     "end_time": "2023-09-03T07:14:15.143437",
     "exception": false,
     "start_time": "2023-09-03T07:14:15.122490",
     "status": "completed"
    },
    "tags": []
   },
   "outputs": [],
   "source": [
    "import numpy as np"
   ]
  },
  {
   "cell_type": "markdown",
   "id": "a19e7d12",
   "metadata": {
    "papermill": {
     "duration": 0.005033,
     "end_time": "2023-09-03T07:14:15.154211",
     "exception": false,
     "start_time": "2023-09-03T07:14:15.149178",
     "status": "completed"
    },
    "tags": []
   },
   "source": [
    "# Arethmatic operations"
   ]
  },
  {
   "cell_type": "markdown",
   "id": "da38f5c3",
   "metadata": {
    "papermill": {
     "duration": 0.004855,
     "end_time": "2023-09-03T07:14:15.164162",
     "exception": false,
     "start_time": "2023-09-03T07:14:15.159307",
     "status": "completed"
    },
    "tags": []
   },
   "source": [
    "addition"
   ]
  },
  {
   "cell_type": "code",
   "execution_count": 2,
   "id": "037fbc1c",
   "metadata": {
    "execution": {
     "iopub.execute_input": "2023-09-03T07:14:15.176707Z",
     "iopub.status.busy": "2023-09-03T07:14:15.176343Z",
     "iopub.status.idle": "2023-09-03T07:14:15.188385Z",
     "shell.execute_reply": "2023-09-03T07:14:15.187026Z"
    },
    "papermill": {
     "duration": 0.021694,
     "end_time": "2023-09-03T07:14:15.191105",
     "exception": false,
     "start_time": "2023-09-03T07:14:15.169411",
     "status": "completed"
    },
    "tags": []
   },
   "outputs": [
    {
     "name": "stdout",
     "output_type": "stream",
     "text": [
      "[4 5 6 7 8]\n",
      "[4 5 6 7 8]\n",
      "[2 3 4 5 6]\n",
      "[2 3 4 5 6]\n"
     ]
    }
   ],
   "source": [
    "# 1 - d\n",
    "var = np.array([1,2,3,4,5])\n",
    "varadd= var + 3\n",
    "print(varadd)\n",
    "\n",
    "# by function\n",
    "var = np.array([1,2,3,4,5])\n",
    "varadd= np.add(var,3)\n",
    "print(varadd)\n",
    "\n",
    "# for 2\n",
    "var = np.array([1,2,3,4,5])\n",
    "var0 = np.array([1,1,1,1,1])\n",
    "varadd1=var+var0\n",
    "print(varadd1)\n",
    "\n",
    "# by function\n",
    "var = np.array([1,2,3,4,5])\n",
    "var0 = np.array([1,1,1,1,1])\n",
    "varadd1func=np.add(var,var0)\n",
    "print(varadd1func)"
   ]
  },
  {
   "cell_type": "markdown",
   "id": "5a4d6158",
   "metadata": {
    "papermill": {
     "duration": 0.005306,
     "end_time": "2023-09-03T07:14:15.202605",
     "exception": false,
     "start_time": "2023-09-03T07:14:15.197299",
     "status": "completed"
    },
    "tags": []
   },
   "source": [
    "subtraction"
   ]
  },
  {
   "cell_type": "code",
   "execution_count": 3,
   "id": "fd760c11",
   "metadata": {
    "execution": {
     "iopub.execute_input": "2023-09-03T07:14:15.215026Z",
     "iopub.status.busy": "2023-09-03T07:14:15.214603Z",
     "iopub.status.idle": "2023-09-03T07:14:15.222430Z",
     "shell.execute_reply": "2023-09-03T07:14:15.221563Z"
    },
    "papermill": {
     "duration": 0.016364,
     "end_time": "2023-09-03T07:14:15.224475",
     "exception": false,
     "start_time": "2023-09-03T07:14:15.208111",
     "status": "completed"
    },
    "tags": []
   },
   "outputs": [
    {
     "name": "stdout",
     "output_type": "stream",
     "text": [
      "[-2 -1  0  1  2]\n",
      "[-2 -1  0  1  2]\n",
      "[0 1 2 3 4]\n",
      "[0 1 2 3 4]\n"
     ]
    }
   ],
   "source": [
    "# 1 - d\n",
    "var = np.array([1,2,3,4,5])\n",
    "varsub= var - 3\n",
    "print(varsub)\n",
    "\n",
    "# 1 - d\n",
    "var = np.array([1,2,3,4,5])\n",
    "varsub= np.subtract(var,3)\n",
    "print(varsub)\n",
    "\n",
    "# for 2\n",
    "var = np.array([1,2,3,4,5])\n",
    "var0 = np.array([1,1,1,1,1])\n",
    "varsub1= var-var0\n",
    "print(varsub1)\n",
    "\n",
    "var = np.array([1,2,3,4,5])\n",
    "var0 = np.array([1,1,1,1,1])\n",
    "varsub1= np.subtract(var,var0)\n",
    "print(varsub1)"
   ]
  },
  {
   "cell_type": "markdown",
   "id": "f6d6ce7a",
   "metadata": {
    "papermill": {
     "duration": 0.00513,
     "end_time": "2023-09-03T07:14:15.235227",
     "exception": false,
     "start_time": "2023-09-03T07:14:15.230097",
     "status": "completed"
    },
    "tags": []
   },
   "source": [
    "multiply"
   ]
  },
  {
   "cell_type": "code",
   "execution_count": 4,
   "id": "5a2a8f57",
   "metadata": {
    "execution": {
     "iopub.execute_input": "2023-09-03T07:14:15.247756Z",
     "iopub.status.busy": "2023-09-03T07:14:15.247379Z",
     "iopub.status.idle": "2023-09-03T07:14:15.254952Z",
     "shell.execute_reply": "2023-09-03T07:14:15.253978Z"
    },
    "papermill": {
     "duration": 0.016054,
     "end_time": "2023-09-03T07:14:15.256765",
     "exception": false,
     "start_time": "2023-09-03T07:14:15.240711",
     "status": "completed"
    },
    "tags": []
   },
   "outputs": [
    {
     "name": "stdout",
     "output_type": "stream",
     "text": [
      "[ 3  6  9 12 15]\n",
      "[ 3  6  9 12 15]\n",
      "[ 1  6 33 52 60]\n",
      "[ 1  6 33 52 60]\n"
     ]
    }
   ],
   "source": [
    "# 1 - d\n",
    "var = np.array([1,2,3,4,5])\n",
    "varmul= var * 3\n",
    "print(varmul)\n",
    "\n",
    "# 1 - d\n",
    "var = np.array([1,2,3,4,5])\n",
    "varmul= np.multiply(var,3)\n",
    "print(varmul)\n",
    "\n",
    "# for 2\n",
    "var = np.array([1,2,3,4,5])\n",
    "var0 = np.array([1,3,11,13,12])\n",
    "varmul1= var*var0\n",
    "print(varmul1)\n",
    "\n",
    "var = np.array([1,2,3,4,5])\n",
    "var0 = np.array([1,3,11,13,12])\n",
    "varmul1= np.multiply(var,var0)\n",
    "print(varmul1)"
   ]
  },
  {
   "cell_type": "markdown",
   "id": "e5cc1995",
   "metadata": {
    "papermill": {
     "duration": 0.006023,
     "end_time": "2023-09-03T07:14:15.268502",
     "exception": false,
     "start_time": "2023-09-03T07:14:15.262479",
     "status": "completed"
    },
    "tags": []
   },
   "source": [
    "divide"
   ]
  },
  {
   "cell_type": "code",
   "execution_count": 5,
   "id": "a97bbf9e",
   "metadata": {
    "execution": {
     "iopub.execute_input": "2023-09-03T07:14:15.280531Z",
     "iopub.status.busy": "2023-09-03T07:14:15.280174Z",
     "iopub.status.idle": "2023-09-03T07:14:15.288638Z",
     "shell.execute_reply": "2023-09-03T07:14:15.287771Z"
    },
    "papermill": {
     "duration": 0.017342,
     "end_time": "2023-09-03T07:14:15.291157",
     "exception": false,
     "start_time": "2023-09-03T07:14:15.273815",
     "status": "completed"
    },
    "tags": []
   },
   "outputs": [
    {
     "name": "stdout",
     "output_type": "stream",
     "text": [
      "[0.33333333 0.66666667 1.         1.33333333 1.66666667]\n",
      "[0.33333333 0.66666667 1.         1.33333333 1.66666667]\n",
      "[1. 2. 3. 4. 5.]\n",
      "[1. 2. 3. 4. 5.]\n"
     ]
    }
   ],
   "source": [
    "# 1 - d\n",
    "var = np.array([1,2,3,4,5])\n",
    "vardiv= var / 3\n",
    "print(vardiv)\n",
    "\n",
    "# 1 - d\n",
    "var = np.array([1,2,3,4,5])\n",
    "vardiv= np.divide(var,3)\n",
    "print(vardiv)\n",
    "\n",
    "# for 2\n",
    "var = np.array([1,2,3,4,5])\n",
    "var0 = np.array([1,1,1,1,1])\n",
    "vardiv1= var/var0\n",
    "print(vardiv1)\n",
    "\n",
    "# for 2\n",
    "var = np.array([1,2,3,4,5])\n",
    "var0 = np.array([1,1,1,1,1])\n",
    "vardiv1= np.divide(var,var0)\n",
    "print(vardiv1)"
   ]
  },
  {
   "cell_type": "markdown",
   "id": "0a1638a7",
   "metadata": {
    "papermill": {
     "duration": 0.005261,
     "end_time": "2023-09-03T07:14:15.302245",
     "exception": false,
     "start_time": "2023-09-03T07:14:15.296984",
     "status": "completed"
    },
    "tags": []
   },
   "source": [
    "Modulus"
   ]
  },
  {
   "cell_type": "code",
   "execution_count": 6,
   "id": "b9de3fb1",
   "metadata": {
    "execution": {
     "iopub.execute_input": "2023-09-03T07:14:15.314748Z",
     "iopub.status.busy": "2023-09-03T07:14:15.314351Z",
     "iopub.status.idle": "2023-09-03T07:14:15.321913Z",
     "shell.execute_reply": "2023-09-03T07:14:15.320853Z"
    },
    "papermill": {
     "duration": 0.016279,
     "end_time": "2023-09-03T07:14:15.323981",
     "exception": false,
     "start_time": "2023-09-03T07:14:15.307702",
     "status": "completed"
    },
    "tags": []
   },
   "outputs": [
    {
     "name": "stdout",
     "output_type": "stream",
     "text": [
      "[1 2 0 1 2]\n",
      "[1 2 0 1 2]\n",
      "[0 0 0 0 0]\n",
      "[0 0 0 0 0]\n"
     ]
    }
   ],
   "source": [
    "# 1 - d\n",
    "var = np.array([1,2,3,4,5])\n",
    "varmod= var % 3\n",
    "print(varmod)\n",
    "\n",
    "# 1 - d\n",
    "var = np.array([1,2,3,4,5])\n",
    "varmod= np.mod(var,3)\n",
    "print(varmod)\n",
    "\n",
    "# for 2\n",
    "var = np.array([1,2,3,4,5])\n",
    "var0 = np.array([1,1,1,1,1])\n",
    "varmod1= var%var0\n",
    "print(varmod1)\n",
    "\n",
    "# for 2\n",
    "var = np.array([1,2,3,4,5])\n",
    "var0 = np.array([1,1,1,1,1])\n",
    "varmod1= np.mod(var,var0)\n",
    "print(varmod1)"
   ]
  },
  {
   "cell_type": "markdown",
   "id": "23d9b683",
   "metadata": {
    "papermill": {
     "duration": 0.005125,
     "end_time": "2023-09-03T07:14:15.335039",
     "exception": false,
     "start_time": "2023-09-03T07:14:15.329914",
     "status": "completed"
    },
    "tags": []
   },
   "source": [
    "power"
   ]
  },
  {
   "cell_type": "code",
   "execution_count": 7,
   "id": "49bb0363",
   "metadata": {
    "execution": {
     "iopub.execute_input": "2023-09-03T07:14:15.347164Z",
     "iopub.status.busy": "2023-09-03T07:14:15.346816Z",
     "iopub.status.idle": "2023-09-03T07:14:15.357052Z",
     "shell.execute_reply": "2023-09-03T07:14:15.355995Z"
    },
    "papermill": {
     "duration": 0.018478,
     "end_time": "2023-09-03T07:14:15.358730",
     "exception": false,
     "start_time": "2023-09-03T07:14:15.340252",
     "status": "completed"
    },
    "tags": []
   },
   "outputs": [
    {
     "name": "stdout",
     "output_type": "stream",
     "text": [
      "[  1   8  27  64 125]\n",
      "[  1   8  27  64 125]\n",
      "[1 2 3 4 5]\n",
      "[1 2 3 4 5]\n"
     ]
    }
   ],
   "source": [
    "# 1 - d\n",
    "var = np.array([1,2,3,4,5])\n",
    "varpow= var ** 3\n",
    "print(varpow)\n",
    "\n",
    "# 1 - d\n",
    "var = np.array([1,2,3,4,5])\n",
    "varpow= np.power(var,3)\n",
    "print(varpow)\n",
    "\n",
    "# for 2\n",
    "var = np.array([1,2,3,4,5])\n",
    "var0 = np.array([1,1,1,1,1])\n",
    "varpow1= var**var0\n",
    "print(varpow1)\n",
    "\n",
    "# for 2\n",
    "var = np.array([1,2,3,4,5])\n",
    "var0 = np.array([1,1,1,1,1])\n",
    "varpow1= np.power(var,var0)\n",
    "print(varpow1)"
   ]
  },
  {
   "cell_type": "markdown",
   "id": "5407f861",
   "metadata": {
    "papermill": {
     "duration": 0.005085,
     "end_time": "2023-09-03T07:14:15.369192",
     "exception": false,
     "start_time": "2023-09-03T07:14:15.364107",
     "status": "completed"
    },
    "tags": []
   },
   "source": [
    "reciprocal"
   ]
  },
  {
   "cell_type": "code",
   "execution_count": 8,
   "id": "8afe7019",
   "metadata": {
    "execution": {
     "iopub.execute_input": "2023-09-03T07:14:15.381327Z",
     "iopub.status.busy": "2023-09-03T07:14:15.381027Z",
     "iopub.status.idle": "2023-09-03T07:14:15.387441Z",
     "shell.execute_reply": "2023-09-03T07:14:15.386081Z"
    },
    "papermill": {
     "duration": 0.014812,
     "end_time": "2023-09-03T07:14:15.389169",
     "exception": false,
     "start_time": "2023-09-03T07:14:15.374357",
     "status": "completed"
    },
    "tags": []
   },
   "outputs": [
    {
     "name": "stdout",
     "output_type": "stream",
     "text": [
      "[1.         0.5        0.33333333 0.25       0.2       ]\n",
      "[1.         0.5        0.33333333 0.25       0.2       ]\n"
     ]
    }
   ],
   "source": [
    "# 1 - d\n",
    "var = np.array([1,2,3,4,5])\n",
    "rec= 1/var\n",
    "print(rec)\n",
    "\n",
    "# 1 - d\n",
    "var1 = np.array([1,2,3,4,5])\n",
    "rec1= np.reciprocal(var)\n",
    "print(rec)"
   ]
  },
  {
   "cell_type": "markdown",
   "id": "3d26a463",
   "metadata": {
    "papermill": {
     "duration": 0.005463,
     "end_time": "2023-09-03T07:14:15.400563",
     "exception": false,
     "start_time": "2023-09-03T07:14:15.395100",
     "status": "completed"
    },
    "tags": []
   },
   "source": [
    "* 2-D array"
   ]
  },
  {
   "cell_type": "code",
   "execution_count": 9,
   "id": "45e37ec7",
   "metadata": {
    "execution": {
     "iopub.execute_input": "2023-09-03T07:14:15.413022Z",
     "iopub.status.busy": "2023-09-03T07:14:15.412700Z",
     "iopub.status.idle": "2023-09-03T07:14:15.421963Z",
     "shell.execute_reply": "2023-09-03T07:14:15.420645Z"
    },
    "papermill": {
     "duration": 0.01779,
     "end_time": "2023-09-03T07:14:15.423686",
     "exception": false,
     "start_time": "2023-09-03T07:14:15.405896",
     "status": "completed"
    },
    "tags": []
   },
   "outputs": [
    {
     "name": "stdout",
     "output_type": "stream",
     "text": [
      "[[-2 -1  0  1  2]\n",
      " [ 3  4  5  6  6]]\n",
      "\n",
      "\n",
      "[[-2 -1  0  1  2]\n",
      " [ 2  1  1  1  1]]\n",
      "\n",
      "\n",
      "[[ 0  1  2  3  4]\n",
      " [ 2  1  0 58 -3]]\n",
      "\n",
      "\n",
      "[[ 0  1  2  3  4]\n",
      " [ 2  1  0 58 -3]]\n",
      "\n",
      "\n"
     ]
    }
   ],
   "source": [
    "# 1 - d\n",
    "var = np.array([[1,2,3,4,5],[6,7,8,9,9]])\n",
    "varsub= var - 3\n",
    "print(varsub)\n",
    "print(\"\\n\")\n",
    "# 1 - d\n",
    "var = np.array([[1,2,3,4,5],[5,4,4,4,4]])\n",
    "varsub= np.subtract(var,3)\n",
    "print(varsub)\n",
    "print(\"\\n\")\n",
    "\n",
    "# for 2\n",
    "var = np.array([[1,2,3,4,5],[9,8,7,65,4]])\n",
    "var0 = np.array([[1,1,1,1,1],[7,7,7,7,7]])\n",
    "varsub1= var-var0\n",
    "print(varsub1)\n",
    "print(\"\\n\")\n",
    "\n",
    "var = np.array([[1,2,3,4,5],[9,8,7,65,4]])\n",
    "var0 = np.array([[1,1,1,1,1],[7,7,7,7,7]])\n",
    "varsub1= np.subtract(var,var0)\n",
    "print(varsub1)\n",
    "print(\"\\n\")\n"
   ]
  },
  {
   "cell_type": "markdown",
   "id": "cd61bfaa",
   "metadata": {
    "papermill": {
     "duration": 0.005409,
     "end_time": "2023-09-03T07:14:15.434681",
     "exception": false,
     "start_time": "2023-09-03T07:14:15.429272",
     "status": "completed"
    },
    "tags": []
   },
   "source": [
    "# now you can do it next by yourself :)"
   ]
  },
  {
   "cell_type": "markdown",
   "id": "4f5fdbb0",
   "metadata": {
    "papermill": {
     "duration": 0.005229,
     "end_time": "2023-09-03T07:14:15.445346",
     "exception": false,
     "start_time": "2023-09-03T07:14:15.440117",
     "status": "completed"
    },
    "tags": []
   },
   "source": [
    "# It works as a matrix arethmatics"
   ]
  }
 ],
 "kernelspec": {
  "display_name": "Python 3",
  "language": "python",
  "name": "python3"
 },
 "language_info": {
  "codemirror_mode": {
   "name": "ipython",
   "version": 3
  },
  "file_extension": ".py",
  "mimetype": "text/x-python",
  "name": "python",
  "nbconvert_exporter": "python",
  "pygments_lexer": "ipython3",
  "version": "3.6.4"
 },
 "metadata": {
  "kernelspec": {
   "display_name": "Python 3",
   "language": "python",
   "name": "python3"
  },
  "language_info": {
   "codemirror_mode": {
    "name": "ipython",
    "version": 3
   },
   "file_extension": ".py",
   "mimetype": "text/x-python",
   "name": "python",
   "nbconvert_exporter": "python",
   "pygments_lexer": "ipython3",
   "version": "3.10.12"
  },
  "papermill": {
   "default_parameters": {},
   "duration": 4.729494,
   "end_time": "2023-09-03T07:14:15.770538",
   "environment_variables": {},
   "exception": null,
   "input_path": "__notebook__.ipynb",
   "output_path": "__notebook__.ipynb",
   "parameters": {},
   "start_time": "2023-09-03T07:14:11.041044",
   "version": "2.4.0"
  }
 },
 "nbformat": 4,
 "nbformat_minor": 5
}
