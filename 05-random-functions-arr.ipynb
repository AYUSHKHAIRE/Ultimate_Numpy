{
 "cells": [
  {
   "cell_type": "code",
   "execution_count": 1,
   "id": "a883f621",
   "metadata": {
    "_cell_guid": "b1076dfc-b9ad-4769-8c92-a6c4dae69d19",
    "_uuid": "8f2839f25d086af736a60e9eeb907d3b93b6e0e5",
    "execution": {
     "iopub.execute_input": "2023-09-03T05:18:13.241595Z",
     "iopub.status.busy": "2023-09-03T05:18:13.241178Z",
     "iopub.status.idle": "2023-09-03T05:18:13.254415Z",
     "shell.execute_reply": "2023-09-03T05:18:13.253204Z"
    },
    "papermill": {
     "duration": 0.023558,
     "end_time": "2023-09-03T05:18:13.256741",
     "exception": false,
     "start_time": "2023-09-03T05:18:13.233183",
     "status": "completed"
    },
    "tags": []
   },
   "outputs": [
    {
     "name": "stdout",
     "output_type": "stream",
     "text": [
      "imported\n"
     ]
    }
   ],
   "source": [
    "import numpy as np\n",
    "print('imported')"
   ]
  },
  {
   "cell_type": "markdown",
   "id": "7c3269e3",
   "metadata": {
    "papermill": {
     "duration": 0.00457,
     "end_time": "2023-09-03T05:18:13.266359",
     "exception": false,
     "start_time": "2023-09-03T05:18:13.261789",
     "status": "completed"
    },
    "tags": []
   },
   "source": [
    "# Random Functions"
   ]
  },
  {
   "cell_type": "code",
   "execution_count": 2,
   "id": "9f993b83",
   "metadata": {
    "execution": {
     "iopub.execute_input": "2023-09-03T05:18:13.277715Z",
     "iopub.status.busy": "2023-09-03T05:18:13.277290Z",
     "iopub.status.idle": "2023-09-03T05:18:13.285340Z",
     "shell.execute_reply": "2023-09-03T05:18:13.284528Z"
    },
    "papermill": {
     "duration": 0.016503,
     "end_time": "2023-09-03T05:18:13.287577",
     "exception": false,
     "start_time": "2023-09-03T05:18:13.271074",
     "status": "completed"
    },
    "tags": []
   },
   "outputs": [
    {
     "name": "stdout",
     "output_type": "stream",
     "text": [
      "[0.06899438 0.42728097 0.97403033 0.47192184]\n",
      "[[0.65679227 0.88786087 0.42004944 0.97893787 0.33308374]\n",
      " [0.03147035 0.18874512 0.33447598 0.20569979 0.67963961]\n",
      " [0.70681683 0.40597633 0.80855663 0.10850619 0.57480311]]\n"
     ]
    }
   ],
   "source": [
    "# 1-D array\n",
    "# rand = 0 < number < 1\n",
    "var=np.random.rand(4)\n",
    "print(var)\n",
    "# 3x5-D array\n",
    "var1=np.random.rand(3,5)\n",
    "print(var1)"
   ]
  },
  {
   "cell_type": "code",
   "execution_count": 3,
   "id": "7682d662",
   "metadata": {
    "execution": {
     "iopub.execute_input": "2023-09-03T05:18:13.299570Z",
     "iopub.status.busy": "2023-09-03T05:18:13.298804Z",
     "iopub.status.idle": "2023-09-03T05:18:13.304298Z",
     "shell.execute_reply": "2023-09-03T05:18:13.303529Z"
    },
    "papermill": {
     "duration": 0.014065,
     "end_time": "2023-09-03T05:18:13.306579",
     "exception": false,
     "start_time": "2023-09-03T05:18:13.292514",
     "status": "completed"
    },
    "tags": []
   },
   "outputs": [
    {
     "name": "stdout",
     "output_type": "stream",
     "text": [
      "[-0.982995    0.16230178  0.25215063  0.3704917  -0.63891727]\n"
     ]
    }
   ],
   "source": [
    "# randn = numbers closed to 0 ( +ve or -ve)\n",
    "var2=np.random.randn(5)\n",
    "print(var2)"
   ]
  },
  {
   "cell_type": "code",
   "execution_count": 4,
   "id": "7754741a",
   "metadata": {
    "execution": {
     "iopub.execute_input": "2023-09-03T05:18:13.318833Z",
     "iopub.status.busy": "2023-09-03T05:18:13.317752Z",
     "iopub.status.idle": "2023-09-03T05:18:13.324222Z",
     "shell.execute_reply": "2023-09-03T05:18:13.323013Z"
    },
    "papermill": {
     "duration": 0.014978,
     "end_time": "2023-09-03T05:18:13.326510",
     "exception": false,
     "start_time": "2023-09-03T05:18:13.311532",
     "status": "completed"
    },
    "tags": []
   },
   "outputs": [
    {
     "name": "stdout",
     "output_type": "stream",
     "text": [
      "[0.29893621 0.79017843 0.84975792 0.16584    0.49877594]\n"
     ]
    }
   ],
   "source": [
    "# ranf = for [0,1)\n",
    "# simply includes 0 but not 1\n",
    "var3 = np.random.ranf(5)\n",
    "print(var3)"
   ]
  },
  {
   "cell_type": "code",
   "execution_count": 5,
   "id": "bdba5adb",
   "metadata": {
    "execution": {
     "iopub.execute_input": "2023-09-03T05:18:13.338921Z",
     "iopub.status.busy": "2023-09-03T05:18:13.338171Z",
     "iopub.status.idle": "2023-09-03T05:18:13.345941Z",
     "shell.execute_reply": "2023-09-03T05:18:13.344786Z"
    },
    "papermill": {
     "duration": 0.016576,
     "end_time": "2023-09-03T05:18:13.348267",
     "exception": false,
     "start_time": "2023-09-03T05:18:13.331691",
     "status": "completed"
    },
    "tags": []
   },
   "outputs": [
    {
     "name": "stdout",
     "output_type": "stream",
     "text": [
      "[ 1  2 10 11  2  4 11]\n"
     ]
    }
   ],
   "source": [
    "# randint : random between given two numbers\n",
    "var4 = np.random.randint(0,15,7)\n",
    "# (min,max,numberofvalues)\n",
    "print(var4)"
   ]
  }
 ],
 "kernelspec": {
  "display_name": "Python 3",
  "language": "python",
  "name": "python3"
 },
 "language_info": {
  "codemirror_mode": {
   "name": "ipython",
   "version": 3
  },
  "file_extension": ".py",
  "mimetype": "text/x-python",
  "name": "python",
  "nbconvert_exporter": "python",
  "pygments_lexer": "ipython3",
  "version": "3.6.4"
 },
 "metadata": {
  "kernelspec": {
   "display_name": "Python 3",
   "language": "python",
   "name": "python3"
  },
  "language_info": {
   "codemirror_mode": {
    "name": "ipython",
    "version": 3
   },
   "file_extension": ".py",
   "mimetype": "text/x-python",
   "name": "python",
   "nbconvert_exporter": "python",
   "pygments_lexer": "ipython3",
   "version": "3.10.12"
  },
  "papermill": {
   "default_parameters": {},
   "duration": 4.306778,
   "end_time": "2023-09-03T05:18:13.774115",
   "environment_variables": {},
   "exception": null,
   "input_path": "__notebook__.ipynb",
   "output_path": "__notebook__.ipynb",
   "parameters": {},
   "start_time": "2023-09-03T05:18:09.467337",
   "version": "2.4.0"
  }
 },
 "nbformat": 4,
 "nbformat_minor": 5
}
